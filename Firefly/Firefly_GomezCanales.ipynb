{
 "cells": [
  {
   "cell_type": "markdown",
   "id": "66403164",
   "metadata": {},
   "source": [
    "# Implementación del algoritmo Firefly"
   ]
  },
  {
   "cell_type": "markdown",
   "id": "e982a568",
   "metadata": {},
   "source": [
    "En esta libreta se presenta la implementacion del algoritmo de Firefly para optimización.\n",
    "\n",
    "El primer paso es importar las librerías necesarias para manipular datos, números aleatorios, graficar, etc."
   ]
  },
  {
   "cell_type": "code",
   "execution_count": 1,
   "id": "141a4b5f",
   "metadata": {},
   "outputs": [
    {
     "name": "stdout",
     "output_type": "stream",
     "text": [
      "importing Jupyter notebook from /Users/isaacg/Desktop/Maestría/Primer_Semestre/Algoritmos_Bioinspirados/Firefly/utils/FuncionesObjetivo.ipynb\n"
     ]
    }
   ],
   "source": [
    "# Manejo de arreglos y operaciones matematicas\n",
    "import numpy as np\n",
    "\n",
    "# Importar funciones\n",
    "import import_ipynb\n",
    "from utils import FuncionesObjetivo as f\n",
    "\n",
    "# Numeros aleatorios\n",
    "import random\n",
    "\n",
    "# Para visualizar las animaciones\n",
    "%matplotlib notebook"
   ]
  },
  {
   "cell_type": "markdown",
   "id": "a4ec87c8",
   "metadata": {},
   "source": [
    "## Definir Hiperparámetros del algoritmo"
   ]
  },
  {
   "cell_type": "markdown",
   "id": "8d220a54",
   "metadata": {},
   "source": [
    "Ahora se asignan los valores para los hiperparámetros del algoritmo como la atracción inicial, el coeficiente de absorcion, y la mutacion"
   ]
  },
  {
   "cell_type": "code",
   "execution_count": 4,
   "id": "0f3c3a46",
   "metadata": {},
   "outputs": [],
   "source": [
    "# ------------------ Del Problema ------------------\n",
    "d = 4  # Numero de dimensiones\n",
    "funcion = f.f_colville # funcion objetivo\n",
    "rango = [[-10, 10]]  # Rango de las variables\n",
    "mark = [0, 0, 0]  # Minimo real (si se conoce)\n",
    "\n",
    "# ------------------ Del Algoritmo ------------------\n",
    "n = 50  # Numero de particulas\n",
    "b0 = 1  # atraccion inicial\n",
    "gamma = 0.01  # Coeficiente de absorcion\n",
    "alpha = 1  # mutacion\n",
    "max_gen = 1000  # Maximo de generaciones\n",
    "tol = 1e-2  # Tolerancia para detener el algoritmo\n",
    "\n",
    "# ------------------ Del visualizacion ------------------\n",
    "animacion = True  # Realizar animacion o no\n",
    "levels = 20 # numero de curvas de nivel"
   ]
  },
  {
   "cell_type": "markdown",
   "id": "cacfc963",
   "metadata": {},
   "source": [
    "## Implementacion del algoritmo"
   ]
  },
  {
   "cell_type": "markdown",
   "id": "e21444c9",
   "metadata": {},
   "source": [
    "Ahora se implementa el algoritmo de firefly usando las funciones y los hiperparámetros definidos anteriormente"
   ]
  },
  {
   "cell_type": "code",
   "execution_count": 5,
   "id": "4f832d84",
   "metadata": {},
   "outputs": [
    {
     "name": "stdout",
     "output_type": "stream",
     "text": [
      "El óptimo está en [0.978 0.957 1.019 1.045] con un fitness de 0.0069\n",
      "Obtenido en la generación 158\n",
      "Solo se pueden animar graficas en 3 o menos dimensiones\n"
     ]
    }
   ],
   "source": [
    "# Si solo hay un rango se considera el mismo rango para todas las variables\n",
    "if len(rango) == 1:\n",
    "    rango *= d\n",
    "# Convertir rango a np.array\n",
    "rango = np.array(rango)\n",
    "\n",
    "gen = 0\n",
    "\n",
    "# Crear un vetor de soluciones para cada dimension con su rango dado\n",
    "X = np.random.uniform(low=rango[:, 0], high=rango[:,1], size=((n, d)))\n",
    "\n",
    "# Inicializar la intensidad de las particulas con el fitness\n",
    "I = funcion(X)\n",
    "\n",
    "# Definimos un mejor fitness para iniciar el algoritmo\n",
    "mejor_fitness= np.min(I)\n",
    "\n",
    "# Variable para guardar la historia de cada generacion (para animar)\n",
    "historia = []\n",
    "\n",
    "escala = np.abs(rango[0,0] - rango[0,1])\n",
    "\n",
    "# Seguir con el algoritmo mientra sean menos de 200 generaciones o el fitness sea menor a 0.001\n",
    "while((mejor_fitness > tol) and (gen < max_gen)):\n",
    "    \n",
    "    alpha *= 0.97\n",
    "    \n",
    "    # Guardar la posicion de la generacion actual si se va a animar\n",
    "    if animacion:\n",
    "        img = np.hstack((X, I.reshape(-1, 1)))\n",
    "        historia.append(img)\n",
    "    \n",
    "    # Actualizar particulas\n",
    "    for i in range(len(X)):  # Para cada particula\n",
    "        for j in range(len(X)):  # Comparar con cada particula\n",
    "            # Checar las intensidades, si la de i es mayor que la de j, se mueve i a j (porque se esta minimizando)\n",
    "            if I[i] > I[j]:  # Si son iguales, la particula se mueve aleatoriamente\n",
    "                # Mover la particula i a j\n",
    "                r = np.sum(np.square(X[i] - X[j]), axis=-1)  # Calcular la distancia entre las particulas\n",
    "                # Actualizar posicion\n",
    "                beta = b0 * np.exp(-gamma * r)\n",
    "                X[i] += beta * (X[j] - X[i]) + alpha * (np.random.rand((d)) - 0.5) * escala\n",
    "                # clipear la posicion de la particula para que no se salga de los limits\n",
    "                X[i] = np.clip(X[i], a_min=rango[:, 0], a_max=rango[:, 1])\n",
    "                # Actualizar la intensidad de la particula i\n",
    "                I[i] = funcion(X[i].reshape((1, d)))\n",
    "                \n",
    "    # Mejor fitness de la poblacion\n",
    "    mejor_fitness_pop = np.min(I)\n",
    "    \n",
    "    # Si el mejor fitness de la poblacion es mejor que el mejor fitness, se actualiza el mejor fitness\n",
    "    if mejor_fitness_pop < mejor_fitness:\n",
    "        mejor_fitness = mejor_fitness_pop\n",
    "        # Obtener la particula con el mejor fitness\n",
    "        part_opt = X[np.argmin(I)]\n",
    "    \n",
    "    # Aumentar la generacion\n",
    "    gen += 1\n",
    "    \n",
    "# Una vez concluido el algoritmo se muestran los resultados\n",
    "print(f\"El óptimo está en {np.around(part_opt, 3)} con un fitness de {mejor_fitness:0.4f}\")\n",
    "print(f\"Obtenido en la generación {gen}\")\n",
    "\n",
    "# Graficar la funcion con su minimo menos para colville\n",
    "if funcion != f.f_colville and not animacion:\n",
    "    fig, ax = f.graficar(funcion, rango=rango, n_dims=d, mark=list(y_hat[0])+[funcion(y_hat)[0]])\n",
    "    \n",
    "elif animacion:\n",
    "    anim = f.animar_superficie(historia, funcion, rango, d, mark=mark)\n",
    "    # Mostrar grafica de contorno si la grafica es 3D\n",
    "    if d == 2:\n",
    "        anim_c =f.animar_contorno(historia, funcion, rango, mark=mark, levels=levels)"
   ]
  }
 ],
 "metadata": {
  "kernelspec": {
   "display_name": "Python 3 (ipykernel)",
   "language": "python",
   "name": "python3"
  },
  "language_info": {
   "codemirror_mode": {
    "name": "ipython",
    "version": 3
   },
   "file_extension": ".py",
   "mimetype": "text/x-python",
   "name": "python",
   "nbconvert_exporter": "python",
   "pygments_lexer": "ipython3",
   "version": "3.11.4"
  }
 },
 "nbformat": 4,
 "nbformat_minor": 5
}
