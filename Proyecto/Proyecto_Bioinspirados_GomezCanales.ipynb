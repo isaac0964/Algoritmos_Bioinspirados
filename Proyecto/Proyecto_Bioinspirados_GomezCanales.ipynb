{
 "cells": [
  {
   "cell_type": "markdown",
   "id": "9c49b0b8",
   "metadata": {},
   "source": [
    "# Algoritmos Bioinspirados para el Entrenamiento de ANN\n",
    "\n",
    "En esta libreta se presenta el código para realizar el entrenamiento de redes neuronales artificiales (ANN) usando algoritmos bioinspirados.\n",
    "\n",
    "Para esto, primero se debe comprender lo que es una ANN y como es que estas se entrenan, esto se muestra a continuación"
   ]
  },
  {
   "cell_type": "markdown",
   "id": "185bdb37",
   "metadata": {},
   "source": [
    "Una red neuronal es una estructura de datos hecha de \"neuronas\" conectadas unas con otras. Cada neurona tiene un valor, usualmente llamado su \"activación\", este se calcula en función a la suma de las activaciónes que entran a la neurona. Luego esta neurona pasa sus activaciones a las siguientes neuronas.\n",
    "\n"
   ]
  }
 ],
 "metadata": {
  "kernelspec": {
   "display_name": "Python 3 (ipykernel)",
   "language": "python",
   "name": "python3"
  },
  "language_info": {
   "codemirror_mode": {
    "name": "ipython",
    "version": 3
   },
   "file_extension": ".py",
   "mimetype": "text/x-python",
   "name": "python",
   "nbconvert_exporter": "python",
   "pygments_lexer": "ipython3",
   "version": "3.11.4"
  }
 },
 "nbformat": 4,
 "nbformat_minor": 5
}
