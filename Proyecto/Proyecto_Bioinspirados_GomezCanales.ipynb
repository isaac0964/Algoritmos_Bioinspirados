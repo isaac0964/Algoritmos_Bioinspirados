{
 "cells": [
  {
   "cell_type": "markdown",
   "id": "641b6276",
   "metadata": {},
   "source": [
    "# Algoritmos Bioinspirados para  Entrenamiento de ANN\n",
    "\n",
    "En esta libreta se presenta el código para realizar el entrenamiento de redes neuronales artificiales (ANN) usando algoritmos bioinspirados.\n",
    "\n",
    "Para esto, primero se debe comprender lo que es una ANN y como es que estas se entrenan, esto se muestra a continuación"
   ]
  },
  {
   "cell_type": "markdown",
   "id": "f69d97b9",
   "metadata": {},
   "source": [
    "Una red neuronal es una estructura de datos hecha de \"neuronas\" conectadas unas con otras. Cada neurona tiene un valor, usualmente llamado su \"activación\", este se calcula en función a la suma de las activaciónes que entran a la neurona. Luego esta neurona pasa sus activaciones a las siguientes neuronas.\n",
    "\n",
    "<img src=\"imgs/ANN.jpeg\" alt=\"Red Neuronal simple\" />\n",
    "\n",
    "Las conexiones entre neuronas están regulados por \"pesos\" o \"parámetros\". Las activaciones son multiplicadas por pesos al pasar a la siguiente capa, haciendo mayor o menor su influencia en la siguiente neurona.\n",
    "\n",
    "Para calcular la activación de una neurona, debemos realizar el producto punto entre el vector de entrada $v$ y un el vector de pesos $w$. Usualmente se suele añadir un término de \"bias\" o \"sesgo\" $b$ al producto punto; Este término, así como los pesos son parámetros que el modelo aprende. Finalmente, este producto punto se pasa a través de una \"función de activación\" $f$ que devuelve un escalar. Las funciones de activación suelen ser no lineales para que las redes neuronales puedan aprender funciones no lineales.\n",
    "\n",
    "La arquitectura más básica de red neuronal artificial es conocido como perceptrón y es aquella que cuenta con solo una capa de entrada y una de salida, sin capas ocultas, esta es la siguiente:\n",
    "\n",
    "<img src=\"imgs/perceptron.png\" alt=\"Perceptrón\" />\n",
    "\n",
    "Usualmente el bias no se sule incluir en el gráfico de la arquitectura, sin embargo, aquí se incluirá para tener un mejor entendimiento de la arquitectura.\n",
    "\n",
    "Su salida la podemos calcular como:\n",
    "\n",
    "\\begin{equation}\n",
    "y = w_1x_1 + w_2x_2 + w_3x_3 + b\n",
    "\\end{equation}\n",
    "\n",
    "Como se puede observar de la ecuación anterior, el peroceptrón es un modelo lineal, por lo que solo puede ser usado para resolver problemas lineales como los problemas de clasificación lineales como la compuerta lógica AND cuyo gráfico se muestra a continuación:\n",
    "\n",
    "<img src=\"imgs/AND_gate.png\" alt=\"Compuerta lógica AND\"/>\n",
    "\n",
    "Ajustando correctamente los pesos y el bias de la red, uno puede obtener una frontera de decisión que separe de manera adecuada ambas clases.\n",
    "\n",
    "Este problema puede ser resuelto usando un perceptrón debido a que la frontera de desición del problema, como se observa en la gráfica, es lineal, es decir, podemos dividir las dos clases usando una linea recta. \n",
    "\n",
    "Sin embargo, la mayoría de los problemas cuentan con una frontera de decisión no lineal, por lo que no será posible resolverlos usando un perceptrón, un ejemplo de esto es la compuerta lógica XOR, cuya  gráfica es:\n",
    "\n",
    "<img src=\"imgs/XOR_gate.jpg\" alt=\"Compuerta lógica XOR\"/>\n",
    "\n",
    "Los valores que deseamos obtener los podemos obtener de la tabla de verdad de XOR:\n",
    "\n",
    "<img src=\"imgs/XOR.png\" alt=\"Tabla de verdad XOR\"/>\n",
    "\n",
    "\n",
    "Este problema fue una de las principales limitantes y por las que no se les daba mucha importancia a las ANN, sin embargo, más tarde se descubrió que esta limitante podría vencerse apilando varios perceptrones y añadiendo funciones de activación no lineales para obtener una arquitectura como la de la primera imagen, la cual es conocida como perceptrón multicapa (MLP).\n",
    "\n",
    "<img src=\"imgs/arqui.png\" alt=\"MLP para resolver XOR\"/>\n",
    "\n",
    "Podemos ver a las conexiones como una matriz (W) $nxm$ donde los elementos son los valores de los pesos de las conexiones donde $m$ es el numero de neuronas de la capa actual y $n$ es el número de neuronas de la capa anterior. De manera similar, podemos definir al bias como un vector fila (b) donde el número de elementos es igual al número de neuronas en la capa que se desea calcular. De esta manera podemos calcular:\n",
    "\\begin{equation}\n",
    "\\bf{z} = \\bf{x}W_1 + \\bf{b}\n",
    "\\end{equation}\n",
    "\n",
    "Aquí $x$ es el vector de entrada de la capa, $z$ serán la suma ponderada de las entradas de la capa más el bias de la capa que se calculó y es un vector fila con m elementos (el numero de neuronas de la capa).\n",
    "\n",
    "Finalmente para calcular la activación de la capa pasamos el vector $z$ por una función de activación no lineal, en este caso se usará la función tangente hiperbólica para la capa oculta, y la función softmax para l a capa de salida, esta devuelve un número entre 0 y 1 y está definida como:\n",
    "\\begin{equation}\n",
    "f(z) = \\frac{e^{z_i}}{\\sum_{j=1} ^K e^{z_j}}\n",
    "\\end{equation}\n",
    "\n",
    "En el caso de nuestra arquitectura, las activaciones de la capa oculta serán calculadas como\n",
    "\\begin{equation}\n",
    "\\bf{z}^h = \\bf{x}W_1 + \\bf{b}_h\n",
    "\\end{equation}\n",
    "\n",
    "Donde:\n",
    "\\begin{equation}\n",
    "W_1 = \\begin{bmatrix} w_{11} & w_{12} & w_{13} \\\\ w_{21} & w_{22} & w_{23} \\end{bmatrix}\n",
    "\\end{equation}\n",
    "y \n",
    "\\begin{equation}\n",
    "\\bf{b}_h = \\begin{bmatrix} b_{h1} & b_{h2} & b_{h3} \\end{bmatrix}\n",
    "\\end{equation}\n",
    "\n",
    "Por lo tanto, los valores de la capa oculta serán\n",
    "\\begin{equation}\n",
    "\\bf{x}^h = step(\\bf{z}^h)\n",
    "\\end{equation}\n",
    "\n",
    "De manera similar, podemos calcular los valores de la capa de salida como:\n",
    "\\begin{equation}\n",
    "z^o = \\bf{x}W_2 + \\bf{b}_o\n",
    "\\end{equation}\n",
    "\n",
    "y \n",
    "\n",
    "\\begin{equation}\n",
    "y = step(z^o)\n",
    "\\end{equation}\n",
    "\n",
    "Donde:\n",
    "\\begin{equation}\n",
    "W_2 = \\begin{bmatrix} w_{1} \\\\ w_{2} \\\\ w_{3} \\end{bmatrix}\n",
    "\\end{equation}\n",
    "y \n",
    "\\begin{equation}\n",
    "\\bf{b}_o = \\begin{bmatrix} b_{o} \\end{bmatrix}\n",
    "\\end{equation}\n",
    "\n",
    "Ahora que se sabe como calcular la salida de la red, para poder obtener una salida que se ajuste a la respuesta deseada, se deben ajustar adecuadamente los pesos de la red para esto, se utilizarán los algoritmos bioinspirados. Lo que se busca es minimizar una función de pérdida que nos indica que tan alejadas están las predicciones del modelo respecta a los valores reales.\n",
    "\n",
    "La función de pérdida que se usará será negative log-likelihood, la cual está definida por:\n",
    "\\begin{equation}\n",
    "loss = \\frac{1}{m}\\sum_{i=1}^m\\sum_{k=1}^Ky_k^ilog(p_k^i)\n",
    "\\end{equation}\n",
    "Donde $m$ es el número de datos de entrenamiento disponibles, $K$ es el número de clases en los que se realizará la clasificación, $p_k^i$ es la probabilidad de que la instancia $i$ pertenezca a la clase $k$, y $y_k^i$ es un número 0 o 1 indicando si la instancia $i$ pertenece a la clase $k$o no.\n",
    "\n",
    "Para este problema se buscara resolver el problema de clasificación de flores en clases dadas las longitudes y anchos de su sepalo y petalo, esto se muestra en la siguiente figura:\n",
    "<img src=\"imgs/flores.png\" alt=\"Iris Dataset\"/>"
   ]
  },
  {
   "cell_type": "markdown",
   "id": "703c3225",
   "metadata": {},
   "source": [
    "Ahora se muestra el código para entrenar ANN usando algoritmos genéticos.\n",
    "\n",
    "Primero se deben importar las librerías necesarias para poder implementar el código."
   ]
  },
  {
   "cell_type": "code",
   "execution_count": 1,
   "id": "0970c4e9",
   "metadata": {},
   "outputs": [
    {
     "name": "stdout",
     "output_type": "stream",
     "text": [
      "importing Jupyter notebook from PSO.ipynb\n",
      "importing Jupyter notebook from EvolucionDiferencial.ipynb\n"
     ]
    }
   ],
   "source": [
    "import numpy as np  # Manejo de arreglos\n",
    "from sklearn.datasets import load_iris  # Cargar dataset de flores\n",
    "\n",
    "# Importar algoritmos bioinspirados\n",
    "import import_ipynb\n",
    "from PSO import PSO_gbest, PSO_lbest\n",
    "from EvolucionDiferencial import ED, cruzamiento_binomial, cruzamiento_exponencial"
   ]
  },
  {
   "cell_type": "markdown",
   "id": "b75f9ae2",
   "metadata": {},
   "source": [
    "## Implementación de Funciones\n",
    "Ahora se implementan algunas funciones auxiliares en la implementación del código, funciones para calcular la salida de la red a partir de una entrada, función para caluclar la salida de lared para todo el enajmbre, etc."
   ]
  },
  {
   "cell_type": "markdown",
   "id": "df2fe26a",
   "metadata": {},
   "source": [
    "Primero se implementa la función de activación softmax para la capa de salida"
   ]
  },
  {
   "cell_type": "code",
   "execution_count": 2,
   "id": "18ec39e4",
   "metadata": {},
   "outputs": [],
   "source": [
    "def softmax(z):\n",
    "    exp = np.exp(z)\n",
    "    suma = np.sum(exp, axis=1, keepdims=True)\n",
    "    return exp/suma"
   ]
  },
  {
   "cell_type": "markdown",
   "id": "4d9aef95",
   "metadata": {},
   "source": [
    "La función `forward_pass` calcula la salida de la red a partir de una entrada dada, esta funcion necesita la entrada de la red y los pesos de la red, los pesos se guardan en un vector de d dimensiones donde d es el número de parámetros de la red, los elementos del vector se toman para construir las matrices de pesos y los vectores de bias"
   ]
  },
  {
   "cell_type": "code",
   "execution_count": 3,
   "id": "74629129",
   "metadata": {},
   "outputs": [],
   "source": [
    "def forward_pass(data, param):\n",
    "    \"\"\"\n",
    "    Esta funcion calcula la salida de la red neuronal para la entrada dada y los pesos\n",
    "    - input:\n",
    "        - X: entrada de la red neuronal tamaño nx2\n",
    "        - \n",
    "    -output: salida de la red (antes de la funcion de activacio)\n",
    "    \"\"\"\n",
    "    # Construir las matrices de pesos y bias \n",
    "    W1 = param[:40].reshape((n_input, n_h))\n",
    "    b1 = param[40:50].reshape((n_h,))\n",
    "    W2 = param[50:80].reshape((n_h, n_out))\n",
    "    b2 = param[80:].reshape((n_out))\n",
    "    # Calcular activaciones de la oculta\n",
    "    z1 = data @ W1 + b1\n",
    "    h = np.tanh(z1)\n",
    "    # Calcular salida\n",
    "    z2 = h @ W2 + b2\n",
    "    y = softmax(z2)\n",
    "    return y"
   ]
  },
  {
   "cell_type": "markdown",
   "id": "48d35d81",
   "metadata": {},
   "source": [
    "Ahora se define la función objetivo esta función es la negative log-likelihood descrita anteriormente, la cual se calcula para todo el enjambre de particulas."
   ]
  },
  {
   "cell_type": "code",
   "execution_count": 4,
   "id": "454ddd34",
   "metadata": {},
   "outputs": [],
   "source": [
    "def f(pop):\n",
    "    \"\"\"\n",
    "    Calcular la función objetivo para toda la población\n",
    "    input: poblacion\n",
    "    output: fitness de la población (perdida de la red neuronal)\n",
    "    \"\"\"\n",
    "    fitness_pop = []\n",
    "    for part in pop:  # Calcular el fitness en cada particula de la poblacion\n",
    "        # Hacer el forward pass para obtener las probabilidades\n",
    "        probs = forward_pass(data, part)\n",
    "        # Obtener la multiplicacion de los logaritmos\n",
    "        logs = - np.log(probs[range(m), y])\n",
    "        loss = np.sum(logs) / m\n",
    "        fitness_pop.append(loss)\n",
    "    return np.array(fitness_pop)"
   ]
  },
  {
   "cell_type": "markdown",
   "id": "02b4b2b4",
   "metadata": {},
   "source": [
    "Finalmente, definimos una función para realizar predicciones con la red neuronal"
   ]
  },
  {
   "cell_type": "code",
   "execution_count": 5,
   "id": "ac825ed9",
   "metadata": {},
   "outputs": [],
   "source": [
    "def predecir(data, pesos):\n",
    "    \"\"\"\n",
    "    Realizar una predicción con los pesos dados\n",
    "    - input: \n",
    "        - data: datos que se predeciran\n",
    "        - pesos: pesos de la red\n",
    "    - output: predicciones\n",
    "    \"\"\"\n",
    "    # Obtener las probabilidades \n",
    "    probas = forward_pass(data, pesos)\n",
    "    # Clase predicha\n",
    "    preds = np.argmax(probas, axis=1)\n",
    "    return preds"
   ]
  },
  {
   "cell_type": "markdown",
   "id": "59cf1c7a",
   "metadata": {},
   "source": [
    "## Cargar datos y definir arquitectura de ANN"
   ]
  },
  {
   "cell_type": "markdown",
   "id": "300dd8fd",
   "metadata": {},
   "source": [
    "Aquí se cargan los datos y se define el numero de neuronas por capa que tendrá la ANN"
   ]
  },
  {
   "cell_type": "code",
   "execution_count": 6,
   "id": "b81cf1e1",
   "metadata": {},
   "outputs": [],
   "source": [
    "# Definimos los datos de entrada y las salidas esperados \n",
    "iris = load_iris()  # Cargando el dataset\n",
    "data = iris.data  # Entradas de la red\n",
    "y = iris.target  # Salidas deseadas\n",
    "\n",
    "m = len(data)  # Numero de datos\n",
    "\n",
    "# Se define la arquitectura de la red neuronal (neuronas de entrada, neuronas en capa oculta y neuronas de salida)\n",
    "n_input = data.shape[1]\n",
    "n_h = 10\n",
    "n_out = 3"
   ]
  },
  {
   "cell_type": "markdown",
   "id": "d66b248b",
   "metadata": {},
   "source": [
    "Exploremos un poco los datos observando el primer valor de data y su salida deseada"
   ]
  },
  {
   "cell_type": "code",
   "execution_count": 7,
   "id": "5fc27503",
   "metadata": {},
   "outputs": [
    {
     "name": "stdout",
     "output_type": "stream",
     "text": [
      "[5.1 3.5 1.4 0.2] 0\n"
     ]
    }
   ],
   "source": [
    "print(data[0], y[0])"
   ]
  },
  {
   "cell_type": "markdown",
   "id": "3160792f",
   "metadata": {},
   "source": [
    "Esto quiere decir que la primera flor tiene las siguientes características:\n",
    " - Largo del sépalo: 5.1 cm\n",
    " - Ancho del sépalo: 3.5 cm\n",
    " - Largo del pétalo: 1.4 cm\n",
    " - Ancho del pétalo: 0.2 cm\n",
    " \n",
    "Y pertenece a la clase 0, la cual corresponde a Iris Setosa.\n",
    "\n",
    "Las clases están codificadas con un número de la siguiente manera:\n",
    "\n",
    " - Clase 0: Iris Setosa\n",
    " - Clase 1: Iris Versicolor\n",
    " - Clase 2: Iris Virginica"
   ]
  },
  {
   "cell_type": "markdown",
   "id": "242b156c",
   "metadata": {},
   "source": [
    "La dimensión del problema será el número de elementos de la matriz de pesos de la capa oculta más el número de elementos del bias de la capa oculta más el número de elementos de la matriz de pesos de la capa de salida más el número de bias de la capa de salida, esto es:\n",
    "\\begin{equation}\n",
    "(4 \\cdot 10) + 10 + (10 \\cdot 3) + 3 = 83\n",
    "\\end{equation}"
   ]
  },
  {
   "cell_type": "markdown",
   "id": "f87ea13a",
   "metadata": {},
   "source": [
    "## Probar PSO gbest"
   ]
  },
  {
   "cell_type": "markdown",
   "id": "11c4e2bb",
   "metadata": {},
   "source": [
    "### Definir hiperparámetros"
   ]
  },
  {
   "cell_type": "code",
   "execution_count": 8,
   "id": "66a26049",
   "metadata": {},
   "outputs": [],
   "source": [
    "# ------------------ Del Problema ------------------\n",
    "d = (n_input * n_h) + n_h + (n_h * n_out) + n_out  # Numero de dimensiones\n",
    "funcion = f # funcion objetivo\n",
    "rango = [[-5, 5]]  # Rango de las variables\n",
    "\n",
    "# ------------------ Del Algoritmo ------------------\n",
    "n = 50  # Numero de particulas\n",
    "w = 0.9  # Factor de inercia\n",
    "c1 = 0.5  # Peso cognitivo\n",
    "c2 = 0.3  # Peso social\n",
    "max_gen = 300  # Maximo de generaciones\n",
    "tol = 1e-3  # Tolerancia para detener el algoritmo"
   ]
  },
  {
   "cell_type": "markdown",
   "id": "79839f09",
   "metadata": {},
   "source": [
    "### Correr algoritmo PSO gbest"
   ]
  },
  {
   "cell_type": "markdown",
   "id": "a8123c19",
   "metadata": {},
   "source": [
    "Se entrena ahora la red usando el algoritmo PSO gbest para determinar los mejores pesos"
   ]
  },
  {
   "cell_type": "code",
   "execution_count": 9,
   "id": "d9885da2",
   "metadata": {},
   "outputs": [
    {
     "name": "stdout",
     "output_type": "stream",
     "text": [
      "El óptimo está en [-1.159 -5.     2.503  5.     5.    -5.    -5.    -3.412 -0.068  0.673\n",
      " -2.24   1.446 -3.665 -2.505  0.913 -4.065  5.     0.929 -1.036 -5.\n",
      "  3.059 -2.976 -3.333 -5.     3.86   3.298  0.161 -5.     1.922 -0.839\n",
      "  2.523 -5.    -5.    -1.165 -2.389  4.684 -3.918  4.505  5.     5.\n",
      " -5.     1.873 -4.265  1.258  5.    -5.     2.675 -2.209 -3.553  4.163\n",
      " -5.    -5.     0.859 -1.955 -3.005 -1.947  4.438 -0.585  2.897  4.646\n",
      " -1.601 -5.    -1.167 -5.     2.182  2.982  1.438  3.365  1.665  0.665\n",
      " -3.72  -3.914  1.657 -5.    -5.     1.048 -4.005  4.09   2.082  4.423\n",
      " -0.42   4.886 -5.   ] con un fitness de 0.0407\n",
      "Obtenido en la generación 300\n"
     ]
    }
   ],
   "source": [
    "mejores_pesos_PSOg = PSO_gbest(d, funcion, rango, n, w, c1, c2, max_gen, tol)"
   ]
  },
  {
   "cell_type": "markdown",
   "id": "145a9dfd",
   "metadata": {},
   "source": [
    "Para comprobar que los pesos de esta red sean adecuados calculamos el accuracy de la red, el accuracy se puede ver como el porcentaje de aciertos de la red, esto es el número de aciertos de la red entre el total de predicciones:\n",
    "\\begin{equation}\n",
    "\\frac{\\text{Preds correctas}}{\\text{Total de preds}}\n",
    "\\end{equation}"
   ]
  },
  {
   "cell_type": "code",
   "execution_count": 10,
   "id": "d6381d60",
   "metadata": {},
   "outputs": [
    {
     "name": "stdout",
     "output_type": "stream",
     "text": [
      "El accuracy de la ANN entrenada con PSO gbest es 0.993\n"
     ]
    }
   ],
   "source": [
    "preds_psog = predecir(data, mejores_pesos_PSOg)\n",
    "# Calcular el accuracy\n",
    "print(f\"El accuracy de la ANN entrenada con PSO gbest es {round((preds_psog == y).mean(), 3)}\")"
   ]
  },
  {
   "cell_type": "markdown",
   "id": "e7dae82f",
   "metadata": {},
   "source": [
    "## Probar PSO lbest"
   ]
  },
  {
   "cell_type": "markdown",
   "id": "2c9ddc3c",
   "metadata": {},
   "source": [
    "### Definir hiperparámetros"
   ]
  },
  {
   "cell_type": "code",
   "execution_count": 11,
   "id": "59b57270",
   "metadata": {},
   "outputs": [],
   "source": [
    "# ------------------ Del Problema ------------------\n",
    "d = (n_input * n_h) + n_h + (n_h * n_out) + n_out  # Numero de dimensiones\n",
    "funcion = f # funcion objetivo\n",
    "rango = [[-5, 5]]  # Rango de las variables\n",
    "\n",
    "# ------------------ Del Algoritmo ------------------\n",
    "n = 50  # Numero de particulas\n",
    "k=2\n",
    "w = 0.9  # Factor de inercia\n",
    "c1 = 0.5  # Peso cognitivo\n",
    "c2 = 0.3  # Peso social\n",
    "max_gen = 300  # Maximo de generaciones\n",
    "tol = 1e-3  # Tolerancia para detener el algoritmo"
   ]
  },
  {
   "cell_type": "markdown",
   "id": "6c813fc7",
   "metadata": {},
   "source": [
    "### Correr algoritmo PSO lbest"
   ]
  },
  {
   "cell_type": "markdown",
   "id": "5838b87c",
   "metadata": {},
   "source": [
    "Se entrena ahora la red usando el algoritmo PSO lbest para determinar los mejores pesos"
   ]
  },
  {
   "cell_type": "code",
   "execution_count": 12,
   "id": "708237b5",
   "metadata": {},
   "outputs": [
    {
     "name": "stdout",
     "output_type": "stream",
     "text": [
      "El óptimo está en [-5.    -4.133 -3.383 -0.648 -4.999 -2.324 -1.795  5.    -1.289 -5.\n",
      "  0.571  5.     4.322 -0.709 -1.369  4.9   -3.56  -5.     3.965  4.168\n",
      "  4.03   2.726 -3.847 -3.251  5.     0.827 -5.    -4.291 -5.     4.406\n",
      "  0.297 -5.    -5.    -2.226  2.932 -5.    -3.817 -1.376  5.     0.288\n",
      "  1.081 -5.     0.308  1.992 -2.285  3.731 -2.048  5.     5.     1.543\n",
      " -5.    -5.     5.    -0.268  5.    -4.001  2.677  1.697  5.     2.8\n",
      " -5.     0.403 -2.211  0.167  4.352 -1.316 -1.65  -5.    -4.006  5.\n",
      " -3.666 -5.    -1.686 -5.     5.     0.436 -0.208 -5.    -0.567  1.244\n",
      " -1.36   4.864  5.   ] con un fitness de 0.0728\n",
      "Obtenido en la generación 300\n"
     ]
    }
   ],
   "source": [
    "mejores_pesos_PSOl = PSO_lbest(d, funcion, rango, n, k, w, c1, c2, max_gen, tol)"
   ]
  },
  {
   "cell_type": "markdown",
   "id": "7c548154",
   "metadata": {},
   "source": [
    "Para comprobar que los pesos de esta red sean adecuados calculamos el accuracy de la red, el accuracy se puede ver como el porcentaje de aciertos de la red, esto es el número de aciertos de la red entre el total de predicciones:\n",
    "\\begin{equation}\n",
    "\\frac{\\text{Preds correctas}}{\\text{Total de preds}}\n",
    "\\end{equation}"
   ]
  },
  {
   "cell_type": "code",
   "execution_count": 14,
   "id": "08c24251",
   "metadata": {},
   "outputs": [
    {
     "name": "stdout",
     "output_type": "stream",
     "text": [
      "El accuracy de la ANN entrenada con PSO lbest es 0.98\n"
     ]
    }
   ],
   "source": [
    "preds_psol = predecir(data, mejores_pesos_PSOl)\n",
    "# Calcular el accuracy\n",
    "print(f\"El accuracy de la ANN entrenada con PSO lbest es {round((preds_psol == y).mean(), 3)}\")"
   ]
  },
  {
   "cell_type": "markdown",
   "id": "b71e250b",
   "metadata": {},
   "source": [
    "## Probar Evolución Diferencial"
   ]
  },
  {
   "cell_type": "markdown",
   "id": "b58f9c59",
   "metadata": {},
   "source": [
    "### Definir hiperparámetros"
   ]
  },
  {
   "cell_type": "code",
   "execution_count": 15,
   "id": "54e4bec3",
   "metadata": {},
   "outputs": [],
   "source": [
    "# ------------------ Del Problema ------------------\n",
    "d = (n_input * n_h) + n_h + (n_h * n_out) + n_out  # Numero de dimensiones\n",
    "funcion = f # funcion objetivo\n",
    "rango = [[-5, 5]]  # Rango de las variables\n",
    "\n",
    "# ------------------ Del Algoritmo ------------------\n",
    "n = 50  # Numero de particulas\n",
    "F = 0.5  # Peso diferencial\n",
    "C = 0.5  # Probabilidad de cruzamiento\n",
    "cruzamiento = cruzamiento_binomial  # Tipo de cruzamiento\n",
    "max_gen = 300  # Maximo de generaciones\n",
    "tol = 1e-3  # Tolerancia para detener el algoritmo"
   ]
  },
  {
   "cell_type": "markdown",
   "id": "da752060",
   "metadata": {},
   "source": [
    "### Correr algoritmo Evolución Diferencial"
   ]
  },
  {
   "cell_type": "markdown",
   "id": "646f167a",
   "metadata": {},
   "source": [
    "Se entrena ahora la red usando el algoritmo Evolución Diferencial para determinar los mejores pesos"
   ]
  },
  {
   "cell_type": "code",
   "execution_count": 16,
   "id": "18f1851f",
   "metadata": {},
   "outputs": [
    {
     "name": "stdout",
     "output_type": "stream",
     "text": [
      "El óptimo está en [-0.013 -2.716  5.    -2.932  2.002 -2.892 -2.438  5.    -4.828  1.924\n",
      " -5.    -5.     2.071  0.351  5.    -5.    -3.092  4.106 -2.022  4.453\n",
      "  5.    -4.035  1.011  5.    -5.     2.123  3.874  0.731  5.     0.238\n",
      "  4.986  0.983 -0.608  2.071  1.027 -0.915  5.    -0.734  1.133 -1.328\n",
      "  0.771  0.595 -3.928 -0.195  0.807 -0.508 -4.952 -4.689 -4.032 -1.949\n",
      "  0.422 -1.157  4.628 -3.092 -2.365 -1.214 -1.879  1.516  0.599 -5.\n",
      "  1.977  0.947 -3.8   -0.03   0.629  0.591  5.     5.    -5.    -4.382\n",
      "  0.914  2.42  -5.    -0.618  1.728 -3.525 -3.644  4.332 -0.549 -4.748\n",
      " -4.02   5.     4.472] con un fitness de 0.1720\n",
      "Obtenido en la generación 300\n"
     ]
    }
   ],
   "source": [
    "mejores_pesos_ED = ED(d, funcion, rango, n, F, C, cruzamiento, max_gen, tol)"
   ]
  },
  {
   "cell_type": "markdown",
   "id": "6b946891",
   "metadata": {},
   "source": [
    "Para comprobar que los pesos de esta red sean adecuados calculamos el accuracy de la red, el accuracy se puede ver como el porcentaje de aciertos de la red, esto es el número de aciertos de la red entre el total de predicciones:\n",
    "\\begin{equation}\n",
    "\\frac{\\text{Preds correctas}}{\\text{Total de preds}}\n",
    "\\end{equation}"
   ]
  },
  {
   "cell_type": "code",
   "execution_count": 17,
   "id": "6234f55b",
   "metadata": {},
   "outputs": [
    {
     "name": "stdout",
     "output_type": "stream",
     "text": [
      "El accuracy de la ANN entrenada con PSO lbest es 0.94\n"
     ]
    }
   ],
   "source": [
    "preds_ED = predecir(data, mejores_pesos_ED)\n",
    "# Calcular el accuracy\n",
    "print(f\"El accuracy de la ANN entrenada con PSO lbest es {round((preds_ED == y).mean(), 3)}\")"
   ]
  }
 ],
 "metadata": {
  "kernelspec": {
   "display_name": "Python 3 (ipykernel)",
   "language": "python",
   "name": "python3"
  },
  "language_info": {
   "codemirror_mode": {
    "name": "ipython",
    "version": 3
   },
   "file_extension": ".py",
   "mimetype": "text/x-python",
   "name": "python",
   "nbconvert_exporter": "python",
   "pygments_lexer": "ipython3",
   "version": "3.11.4"
  }
 },
 "nbformat": 4,
 "nbformat_minor": 5
}
