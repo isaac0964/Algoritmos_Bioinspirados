{
 "cells": [
  {
   "cell_type": "markdown",
   "id": "335d9ac0",
   "metadata": {},
   "source": [
    "# Implementación del algóritmo de Evolución Diferencial\n",
    "Para comenzar, se importa de la librería de numpy para poder trabajar con arreglos y random para los numeros aleatorios"
   ]
  },
  {
   "cell_type": "code",
   "execution_count": 54,
   "id": "39555095",
   "metadata": {},
   "outputs": [],
   "source": [
    "# Manejo de arreglos y operaciones matematicas\n",
    "import numpy as np\n",
    "\n",
    "# Importar funciones\n",
    "import import_ipynb\n",
    "from utils import FuncionesObjetivo as f\n",
    "\n",
    "# Numeros aleatorios\n",
    "import random"
   ]
  },
  {
   "cell_type": "markdown",
   "id": "9d21b60b",
   "metadata": {},
   "source": [
    "## Implementación de Funciones"
   ]
  },
  {
   "cell_type": "markdown",
   "id": "25860a1d",
   "metadata": {},
   "source": [
    "### Funciones Generales\n"
   ]
  },
  {
   "cell_type": "code",
   "execution_count": 206,
   "id": "bdf4f929",
   "metadata": {},
   "outputs": [],
   "source": [
    "def mutacion(X, rango, F=0.5):\n",
    "    \"\"\"\n",
    "    Esta funcion genera los vectores donadores para el cruzamiento\n",
    "    input: \n",
    "        - X: poblacion actual\n",
    "        - F: factor diferencial\n",
    "        - rango: rango de cada dimension\n",
    "    output: vectores donadores\n",
    "    \"\"\"\n",
    "    vs = []\n",
    "    for i in range(len(X)):\n",
    "        # Elegir tres vectores aleatorios de X\n",
    "        vecs = X[np.random.choice(range(len(X)), size=(3,), replace=False)]\n",
    "        xp = vecs[0, :]\n",
    "        xq = vecs[1, :]\n",
    "        xr = vecs[2, :]\n",
    "\n",
    "        # Generar vector donador\n",
    "        v = xp + F * (xq - xr)\n",
    "\n",
    "        # Clipear para evitar que los valores se salgan del rango\n",
    "        v = np.clip(v, a_min=rango[:, 0], a_max=rango[:, 1])\n",
    "\n",
    "        vs.append(v)\n",
    "    \n",
    "    return np.array(vs)\n",
    "\n",
    "# Funcion para evaluar el fitness de las particulas\n",
    "def eval_fitness(f_obj, decoded):\n",
    "    \"\"\"\n",
    "    Esta funcion evalua el fitness de los valores dados con la funcion objetivo definida\n",
    "    input: string con el nombre de la funcion y lista con los valores decodificados\n",
    "    output: lista con la evaluación del fitness en la funcion objetivo\n",
    "    \"\"\"\n",
    "    return f_obj(decoded)\n",
    "\n",
    "\n",
    "def cruzamiento_binomial(X, v, C=0.5):\n",
    "    \"\"\"\n",
    "    Esta funcion realiza el cruzamiento binomial de la poblacion con los vectores donadores\n",
    "    input:\n",
    "        X: poblacion\n",
    "        v: vectores donadores\n",
    "        C: probabilidad de cruzamiento\n",
    "    output: poblacion con cruzamiento\n",
    "    \"\"\"\n",
    "    # Crear copia de para la nueva población\n",
    "    Xnew = X.copy()\n",
    "    # Para cada vector de la poblacion\n",
    "    for i in range(len(X)):\n",
    "        # Para cada dimension en la poblacion\n",
    "        for j in range(X.shape[1]):\n",
    "            if random.random() <= C:\n",
    "                Xnew[i, j] = v[i, j]\n",
    "    return Xnew\n",
    "\n",
    "def cruzamiento_exponencial(X, v, C=0.5):\n",
    "    \"\"\"\n",
    "    Esta funcion realiza el cruzamiento exponencial de la poblacion con los vectores donadores\n",
    "    input:\n",
    "        X: poblacion\n",
    "        v: vectores donadores\n",
    "    output: poblacion con cruzamiento\n",
    "    \"\"\"\n",
    "    \n",
    "    # Crear copia de para la nueva población\n",
    "    Xnew = X.copy()\n",
    "    \n",
    "    # dimensiones\n",
    "    dims = X.shape[1]\n",
    "    \n",
    "    for i in range(len(X)):\n",
    "        # Generar numero aleatorio k\n",
    "        k = random.randint(1, dims)\n",
    "        # Longitud aleatoria\n",
    "        L = random.randint(1, dims)\n",
    "        \n",
    "        # Indices a obtener del donador\n",
    "        js = [(j-1) if j<=dims else (j-dims-1) for j in range(k, k+L)]\n",
    "        for j in range(X.shape[1]):\n",
    "            if j in js:\n",
    "                Xnew[i, j] = v[i, j]\n",
    "    return Xnew\n",
    "    \n",
    "def seleccion(X, Xnew, f_obj):\n",
    "    \"\"\"\n",
    "    Esta función realiza la selección de la particula con el mejor fitness\n",
    "    input: \n",
    "        - X: población inicial\n",
    "        - Xnew: población nueva\n",
    "        - f_obj: funcion objetivo\n",
    "    \"\"\"\n",
    "    \n",
    "    # Obtener el fitness de la nueva población y de la inicial\n",
    "    Xfit = f_obj(X)\n",
    "    Xnewfit = f_obj(Xnew)\n",
    "    \n",
    "    # Obtener las particulas donde X es mejor y donde Xnew es mejor respectivamente\n",
    "    Xbest = X[np.where(Xfit < Xnewfit)]\n",
    "    Xnewbest = Xnew[np.where(~(Xfit < Xnewfit))]\n",
    "    \n",
    "    # Juntar ambas mejores poblaciones para generar la nueva poblacion\n",
    "    return np.concatenate((Xbest, Xnewbest))"
   ]
  },
  {
   "cell_type": "markdown",
   "id": "f4b00bfd",
   "metadata": {},
   "source": [
    "## Definir Hiperparámetros del Algoritmo"
   ]
  },
  {
   "cell_type": "code",
   "execution_count": 214,
   "id": "9ff24a4d",
   "metadata": {},
   "outputs": [],
   "source": [
    "d = 5  # Numero de dimensiones\n",
    "n = 10  # Numero de particulas\n",
    "rango = [[-10, 10]]  # Rango de las variables\n",
    "F = 0.5  # Peso diferencial\n",
    "C = 0.5  # Probabilidad de cruzamiento\n",
    "cruzamiento = cruzamiento_binomial  # Tipo de cruzamiento\n",
    "funcion = f.f_ackley  # funcion objetivo\n",
    "max_gen = 1000  # Maximo de generaciones\n",
    "tol = 1e-3  # Tolerancia para detener el algoritmo"
   ]
  },
  {
   "cell_type": "markdown",
   "id": "73034258",
   "metadata": {},
   "source": [
    "## Implementación del Algoritmo"
   ]
  },
  {
   "cell_type": "code",
   "execution_count": 215,
   "id": "7f534c82",
   "metadata": {},
   "outputs": [
    {
     "name": "stdout",
     "output_type": "stream",
     "text": [
      "El óptimo está en [-0.  0. -0. -0.  0.] con un fitness de 0.0010\n",
      "Obtenido en la generación 94\n",
      "Para poder graficar la función esta debe estar en 2 o 3 dimensiones\n"
     ]
    }
   ],
   "source": [
    "# Si solo hay un rango se considera el mismo rango para todas las variables\n",
    "if len(rango) == 1:\n",
    "    rango *= d\n",
    "# Convertir rango a np.array\n",
    "rango = np.array(rango)\n",
    "\n",
    "# Definimos un mejor fitness grande para iniciar el algoritmo\n",
    "mejor_fitness= np.infty\n",
    "gen = 0\n",
    "\n",
    "# Crear un vetor de soluciones para cada dimension con su rango dado\n",
    "X = np.random.uniform(low=rango[:, 0], high=rango[:,1], size=((n, d)))\n",
    "\n",
    "# Seguir con el algoritmo mientra sean menos de 100 generaciones o el fitness sea menor a 0.001\n",
    "while((mejor_fitness > tol) and (gen < max_gen)):\n",
    "    # Realizar la mutación de la población\n",
    "    v = mutacion(X, rango, F)\n",
    "    # Realizar el cruzamiento\n",
    "    Xnew = cruzamiento(X, v, C)\n",
    "    # Evaluar el fitness de la poblacion actual\n",
    "    pop_fitness = eval_fitness(funcion, X)\n",
    "    # Obtener el mejor fitness de la poblacion\n",
    "    mejor_fitness_pop = np.min(pop_fitness)\n",
    "    # Si el mejor fitness de la poblacion es menor al mejor fitness global se actualiza este\n",
    "    if mejor_fitness_pop < mejor_fitness:\n",
    "        mejor_fitness = mejor_fitness_pop\n",
    "        # Obtener la particula con el mejor fitness\n",
    "        part_opt = X[np.argmin(pop_fitness)]\n",
    "    # Obtener la nueva poblacion mediante la seleccion\n",
    "    X = seleccion(X, Xnew, funcion)\n",
    "    gen += 1\n",
    "    \n",
    "# Una vez concluido el algoritmo se muestran los resultados\n",
    "print(f\"El óptimo está en {np.around(part_opt, 3)} con un fitness de {mejor_fitness:0.4f}\")\n",
    "print(f\"Obtenido en la generación {gen}\")\n",
    "\n",
    "# Graficar la funcion con su minimo menos para colville\n",
    "if funcion != f.f_colville:\n",
    "    f.graficar(funcion, rango=rango, n_dims=d, min=list(part_opt)+[mejor_fitness])"
   ]
  }
 ],
 "metadata": {
  "kernelspec": {
   "display_name": "Python 3 (ipykernel)",
   "language": "python",
   "name": "python3"
  },
  "language_info": {
   "codemirror_mode": {
    "name": "ipython",
    "version": 3
   },
   "file_extension": ".py",
   "mimetype": "text/x-python",
   "name": "python",
   "nbconvert_exporter": "python",
   "pygments_lexer": "ipython3",
   "version": "3.11.4"
  }
 },
 "nbformat": 4,
 "nbformat_minor": 5
}
