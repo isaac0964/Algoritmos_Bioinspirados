{
 "cells": [
  {
   "cell_type": "markdown",
   "id": "8ea8d124",
   "metadata": {},
   "source": [
    "# ACO (Ant Colony Optimization)\n",
    "\n",
    "En esta libreta se presenta una implementacion del algoritmo Ant Colony Optimization (ACO)\n",
    "\n",
    "Primeramente se importan algunas librerias requeridas para poder manejar arreglos, obtener números aleatorios, etc."
   ]
  },
  {
   "cell_type": "code",
   "execution_count": 1,
   "id": "7ed3889d",
   "metadata": {},
   "outputs": [],
   "source": [
    "import numpy as np"
   ]
  },
  {
   "cell_type": "markdown",
   "id": "ea773b5e",
   "metadata": {},
   "source": [
    "## Implementacion de Funciones\n",
    "\n",
    "Ahora se implementan algunas funciones que serán de utilidad para la implementación del ACO."
   ]
  },
  {
   "cell_type": "code",
   "execution_count": 76,
   "id": "3dd40273",
   "metadata": {},
   "outputs": [],
   "source": [
    "def calcular_p(grafo, feromonas):\n",
    "    \"\"\"\n",
    "    Calcular la probabilidad de ir a un nodo dadas las feromonas\n",
    "    - input: \n",
    "        - grafo\n",
    "        - feromonas: matriz con las feromonas\n",
    "    - output: probabilidad de cada nodo\n",
    "    \"\"\"\n",
    "    # Crear matriz de probabilidades\n",
    "    p = np.zeros_like(feromonas, dtype=float)\n",
    "    # Para cada nodo\n",
    "    for i in range(len(feromonas)):\n",
    "        disponibles = np.where(grafo[i])[0] # Obtener nodos que puede visitar la hormiga\n",
    "        suma = np.sum(feromonas[i][disponibles])  # Suma de los valores de las feromonas para disponibles\n",
    "        # iterar sobre nodos disponibles desde el nodo i\n",
    "        for j in disponibles:\n",
    "            p[i,j] = feromonas[i,j] / suma  # Asignar a cada nodo el valor de su fermona entre la suma de feromonas\n",
    "    return p\n",
    "\n",
    "def remover_loops(camino):\n",
    "    \"\"\"\n",
    "    Funcion para quitar loops de un camino\n",
    "    input: camino\n",
    "    output: camino sin loops\n",
    "    \"\"\"\n",
    "    # Para cada elemento en camino\n",
    "    for i in range(len(camino)):\n",
    "        # Comparar contra los otros elementos del camino\n",
    "        for j in range(i+1, len(camino))[::-1]:\n",
    "            if camino[i] == camino[j]:\n",
    "                # Elimnar los numeros entre los repetidos\n",
    "                camino[i:j] = []\n",
    "                break\n",
    "    return camino\n",
    "\n",
    "def construir_sol(grafo, inicio, destino, p):\n",
    "    \"\"\"\n",
    "    Esta funcion construye un camino desde el nodo inicial hasta el final y evalua el costo\n",
    "    - input: \n",
    "        - adj: matriz de adjacencia del grafo\n",
    "        - inicio: nodo de inicio\n",
    "        - destino: nodo destino\n",
    "        - p: matriz con las probabilidades\n",
    "    - output:\n",
    "        - camino recorrido\n",
    "        - costo del camino\n",
    "    \"\"\"\n",
    "    # Se puede hacer que la hormiga ni visite los nodos ya visitados evitando asi los loops\n",
    "    camino = []\n",
    "    actual = inicio  # El nodo actual es el nodo de inicio\n",
    "    camino = [] # crear camino\n",
    "    camino.append(inicio)\n",
    "    while actual != destino:\n",
    "        disponibles = np.where(grafo[actual])[0]  # Nodos a los que puede ir la hormiga desde el actual\n",
    "        actual = np.random.choice(disponibles, p=p[actual][disponibles])  # Elegir siguiente nodo\n",
    "        camino.append(actual)\n",
    "    return remover_loops(camino)  # Eliminar loops del camino\n",
    "\n",
    "def actualizar_feromonas(grafo, feromonas):\n",
    "    \"\"\"\n",
    "    Actualizar los valores de las feromonas\n",
    "    input:\n",
    "        - grafo\n",
    "        - feromonas: matriz con las feromonas\n",
    "    output: feromonas actualizadas\n",
    "    \"\"\"\n",
    "    feromonas *= (1 - rho)  # Evaporar feromonas\n",
    "    # Matriz con los dtau para actualizar las feromonas\n",
    "    dtau = np.zeros_like(feromonas, dtype=float)\n",
    "    for c in caminos:\n",
    "        # Matriz temporal para ir guardando los Q/f(x) y despues sumar los de todos los caminos\n",
    "        temp = np.zeros_like(feromonas, dtype=float)\n",
    "        costo = 0  # Costo del camino\n",
    "        for i in range(1, len(c)):\n",
    "            # Feromona que si se actualizara\n",
    "            temp[c[i-1], c[i]] = 1\n",
    "            temp[c[i], c[i-1]] = 1\n",
    "            costo += grafo[c[i-1], c[i]]\n",
    "        temp *= Q/costo\n",
    "        dtau += temp\n",
    "\n",
    "    # Actualizar feromonas\n",
    "    feromonas += dtau\n",
    "    return feromonas\n",
    "        "
   ]
  },
  {
   "cell_type": "code",
   "execution_count": 235,
   "id": "be8373a0",
   "metadata": {},
   "outputs": [],
   "source": [
    "grafo = np.array([[0, 0, 0, 1, 0, 1, 0],\n",
    "                  [0, 0, 1, 1, 0, 0, 0],\n",
    "                  [0, 1, 0, 1, 1, 0, 0],\n",
    "                  [1, 1, 1, 0, 1, 1, 0],\n",
    "                  [0, 0, 1, 1, 0, 0, 1],\n",
    "                  [1, 0, 0, 1, 0, 0, 1],\n",
    "                  [0, 0, 0, 0, 1, 1, 0]])\n",
    "\n",
    "n = 50  # Numero de hormigas\n",
    "Q = 0.5\n",
    "rho = 0.25  # Evaporacion de feromonas (0,1) mayor rho, se evaporan mas rapido\n",
    "iteraciones = 50\n",
    "\n",
    "\n",
    "inicio = 0  # De 0 a (numero de nodos - 1)\n",
    "destino = 4"
   ]
  },
  {
   "cell_type": "code",
   "execution_count": 237,
   "id": "7402a042",
   "metadata": {},
   "outputs": [
    {
     "name": "stdout",
     "output_type": "stream",
     "text": [
      "El camino mas corto es [0, 3, 4] con un costo de 2\n"
     ]
    }
   ],
   "source": [
    "# Inicializar feromonas\n",
    "feromonas = np.ones_like(grafo, dtype=float) # hacer las feromonas de la diagonal 0?\n",
    "\n",
    "for i in range(iteraciones):\n",
    "    # Calcular probabilidades\n",
    "    p = calcular_p(grafo, feromonas)\n",
    "    # Construir n caminos\n",
    "    caminos = []\n",
    "    for i in range(n):\n",
    "        caminos.append(construir_sol(grafo, inicio, destino, p))\n",
    "    actualizar_feromonas(grafo, feromonas)\n",
    "    \n",
    "camino_optimo = construir_sol(grafo, inicio, destino, p)\n",
    "# Calcular costo del camino\n",
    "costo_minimo = 0\n",
    "for i in range(1, len(camino_optimo)):\n",
    "    costo_minimo += grafo[camino_optimo[i-1], camino_optimo[i]]\n",
    "print(f\"El camino mas corto es {camino_optimo} con un costo de {costo_minimo}\")"
   ]
  }
 ],
 "metadata": {
  "kernelspec": {
   "display_name": "Python 3 (ipykernel)",
   "language": "python",
   "name": "python3"
  },
  "language_info": {
   "codemirror_mode": {
    "name": "ipython",
    "version": 3
   },
   "file_extension": ".py",
   "mimetype": "text/x-python",
   "name": "python",
   "nbconvert_exporter": "python",
   "pygments_lexer": "ipython3",
   "version": "3.11.4"
  }
 },
 "nbformat": 4,
 "nbformat_minor": 5
}
