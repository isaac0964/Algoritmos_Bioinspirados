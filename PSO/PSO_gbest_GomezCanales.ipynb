{
 "cells": [
  {
   "cell_type": "markdown",
   "id": "5563028a",
   "metadata": {},
   "source": [
    "# Implementación del PSO gbest\n",
    "Se comienza por importar las librerias con algunas utilidades como manejo de arreglos, numeros aleatorios y funciones de prueba"
   ]
  },
  {
   "cell_type": "code",
   "execution_count": 5,
   "id": "2abe503f",
   "metadata": {},
   "outputs": [],
   "source": [
    "# Manejo de arreglos y operaciones matematicas\n",
    "import numpy as np\n",
    "\n",
    "# Importar funciones\n",
    "import import_ipynb\n",
    "from utils import FuncionesObjetivo as f\n",
    "\n",
    "# Numeros aleatorios\n",
    "import random"
   ]
  },
  {
   "cell_type": "markdown",
   "id": "a6749190",
   "metadata": {},
   "source": [
    "## Implementacion de funciones\n",
    "Ahora se implementan funciones que se usaran en la implementacion del algoritmo"
   ]
  },
  {
   "cell_type": "code",
   "execution_count": 8,
   "id": "58694c95",
   "metadata": {},
   "outputs": [],
   "source": [
    "def pg_best(X, y, y_hat, X_ft, y_ft, y_hat_ft):\n",
    "    \"\"\"\n",
    "    Esta funcion actualiza el personal best de cada particula y el global best\n",
    "    - input: \n",
    "        - X: poblacion\n",
    "        - y: personal best actual de cada particula\n",
    "        - y_hat: global best\n",
    "        - X_ft: fitness de la poblacion\n",
    "        - y_ft: fitness del personal best\n",
    "        - y_hat_ft: fitness del mejor global\n",
    "    - output: personal best y global best actualizados\n",
    "    \"\"\"\n",
    "    # Obtener el indice de las particulas donde su nueva posicion es mejor que su personal best\n",
    "    idx_mejoresp = np.where(X_ft < y_ft)\n",
    "    \n",
    "    # Actualizar personal best\n",
    "    y[idx_mejoresp] = X[idx_mejoresp]\n",
    "    \n",
    "    # Si se encuentra un valor mejor en la poblacion actualizada, se cambia el gbest\n",
    "    if np.min(X_ft) < y_hat_ft:\n",
    "        y_hat = X[[np.argmin(X_ft)]]\n",
    "    \n",
    "    return y, y_hat\n",
    "\n",
    "def actualizar_vel(v, X, y, y_hat, c1, c2):\n",
    "    \"\"\"\n",
    "    Esta funcion actualiza la velocidad de las particulas\n",
    "    - input:\n",
    "        - v: velocidad actual de las particulas\n",
    "        - X: posicion actual de las particulas\n",
    "        - y: personal best de cada particula\n",
    "        - y_hat: global best\n",
    "        - c1, c2: constantes para peso de la componente personal y social\n",
    "    - output: velocidad actualizada de cada particula\n",
    "    \"\"\"\n",
    "    # Calcular nueva velocidad\n",
    "    v += c1 * random.random() * (y - X) + c2 * random.random() * (y_hat - X)\n",
    "    \n",
    "    return v"
   ]
  },
  {
   "cell_type": "markdown",
   "id": "c2e5422f",
   "metadata": {},
   "source": [
    "## Definir Hiperparametros del algoritmo"
   ]
  },
  {
   "cell_type": "code",
   "execution_count": 32,
   "id": "842d20cc",
   "metadata": {},
   "outputs": [],
   "source": [
    "d = 4  # Numero de dimensiones\n",
    "n = 100  # Numero de particulas\n",
    "rango = [[-10, 10]]  # Rango de las variables\n",
    "c1 = 0.5  # Peso para personal best\n",
    "c2 = 0.5  # Peso social\n",
    "funcion = f.f_colville  # funcion objetivo\n",
    "max_gen = 500  # Maximo de generaciones\n",
    "tol = 1e-3  # Tolerancia para detener el algoritmo"
   ]
  },
  {
   "cell_type": "markdown",
   "id": "39b2587f",
   "metadata": {},
   "source": [
    "## Implementación del algoritmo"
   ]
  },
  {
   "cell_type": "code",
   "execution_count": 33,
   "id": "dfd4df51",
   "metadata": {},
   "outputs": [
    {
     "name": "stdout",
     "output_type": "stream",
     "text": [
      "El óptimo está en [1.293 1.698 0.558 0.303] con un fitness de 0.5496\n",
      "Obtenido en la generación 500\n"
     ]
    }
   ],
   "source": [
    "# Si solo hay un rango se considera el mismo rango para todas las variables\n",
    "if len(rango) == 1:\n",
    "    rango *= d\n",
    "# Convertir rango a np.array\n",
    "rango = np.array(rango)\n",
    "\n",
    "# Definimos un mejor fitness grande para iniciar el algoritmo\n",
    "mejor_fitness= np.infty\n",
    "gen = 0\n",
    "\n",
    "# Crear un vetor de soluciones para cada dimension con su rango dado\n",
    "X = np.random.uniform(low=rango[:, 0], high=rango[:,1], size=((n, d)))\n",
    "    \n",
    "# El personal best se inicializa con la poblacion ya que no ha habido actualizacion\n",
    "y = X.copy() \n",
    "\n",
    "# Inicializar el global best con el minimo de la poblacion inicial\n",
    "y_hat = X[[np.argmin(funcion(X))]]\n",
    "\n",
    "# Incializar en cero la velocidad de las particulas\n",
    "v = np.zeros_like(X)\n",
    "\n",
    "# Seguir con el algoritmo mientra sean menos de 200 generaciones o el fitness sea menor a 0.001\n",
    "while((mejor_fitness > tol) and (gen < max_gen)):\n",
    "    # Calcular el fitness del personal best\n",
    "    y_ft = funcion(y)\n",
    "    \n",
    "    # Fitness del mejor global\n",
    "    y_hat_ft = funcion(y_hat)\n",
    "    \n",
    "    # Fitness de la poblacion\n",
    "    X_ft = funcion(X)\n",
    "    \n",
    "    # Actualizar el personal y global best\n",
    "    y, y_hat = pg_best(X, y, y_hat, X_ft, y_ft, y_hat_ft)\n",
    "    \n",
    "    # Actualizar velocidad\n",
    "    v = actualizar_vel(v, X, y, y_hat, c1, c2)\n",
    "    \n",
    "    # Actualizar la posicion de las particulas\n",
    "    X += v\n",
    "    \n",
    "    # Aumentar la generacion\n",
    "    gen += 1\n",
    "    \n",
    "# Una vez concluido el algoritmo se muestran los resultados\n",
    "print(f\"El óptimo está en {np.around(y_hat[0], 3)} con un fitness de {funcion(y_hat)[0]:0.4f}\")\n",
    "print(f\"Obtenido en la generación {gen}\")"
   ]
  },
  {
   "cell_type": "markdown",
   "id": "ced9390f",
   "metadata": {},
   "source": [
    "# Algo no está funcionando bien, los resultados no son los mejores"
   ]
  },
  {
   "cell_type": "code",
   "execution_count": null,
   "id": "22aed389",
   "metadata": {},
   "outputs": [],
   "source": []
  }
 ],
 "metadata": {
  "kernelspec": {
   "display_name": "Python 3 (ipykernel)",
   "language": "python",
   "name": "python3"
  },
  "language_info": {
   "codemirror_mode": {
    "name": "ipython",
    "version": 3
   },
   "file_extension": ".py",
   "mimetype": "text/x-python",
   "name": "python",
   "nbconvert_exporter": "python",
   "pygments_lexer": "ipython3",
   "version": "3.11.4"
  }
 },
 "nbformat": 4,
 "nbformat_minor": 5
}
