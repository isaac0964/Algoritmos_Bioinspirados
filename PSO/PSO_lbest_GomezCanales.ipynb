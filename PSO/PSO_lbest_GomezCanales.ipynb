{
 "cells": [
  {
   "cell_type": "markdown",
   "id": "5563028a",
   "metadata": {},
   "source": [
    "# Implementación del PSO lbest\n",
    "Se comienza por importar las librerias con algunas utilidades como manejo de arreglos, numeros aleatorios y funciones de prueba"
   ]
  },
  {
   "cell_type": "code",
   "execution_count": 1,
   "id": "2abe503f",
   "metadata": {},
   "outputs": [
    {
     "name": "stdout",
     "output_type": "stream",
     "text": [
      "importing Jupyter notebook from /Users/isaacg/Desktop/Maestría/Primer_Semestre/Algoritmos_Bioinspirados/PSO/utils/FuncionesObjetivo.ipynb\n"
     ]
    }
   ],
   "source": [
    "# Manejo de arreglos y operaciones matematicas\n",
    "import numpy as np\n",
    "\n",
    "# Importar funciones\n",
    "import import_ipynb\n",
    "from utils import FuncionesObjetivo as f\n",
    "\n",
    "# Numeros aleatorios\n",
    "import random\n",
    "\n",
    "# Para visualizar las animaciones\n",
    "%matplotlib notebook"
   ]
  },
  {
   "cell_type": "markdown",
   "id": "a6749190",
   "metadata": {},
   "source": [
    "## Implementacion de funciones\n",
    "Ahora se implementan funciones que se usaran en la implementacion del algoritmo"
   ]
  },
  {
   "cell_type": "code",
   "execution_count": null,
   "id": "e922d899",
   "metadata": {},
   "outputs": [],
   "source": [
    "def crear_vecindarios(X, k):\n",
    "    \"\"\"\n",
    "    Esta funcion crea los vecindarios de k vecinos para las n particulas\n",
    "    - input:\n",
    "        - X: poblacion\n",
    "        - k: numero de vecinos de cada particula\n",
    "    \"\"\"\n",
    "    # Se \n",
    "    # Checar si el numero de vecinos es valido\n",
    "    if (k % 2 != 0) or k > len(X):\n",
    "        print(\"Ingrese un número de vecinos valido (par y menor o igual al numero de particulas)\")\n",
    "        return\n",
    "    else:\n",
    "        vecindarios = []\n",
    "        # Crear vecindarios\n",
    "        for i in range(len(X)):\n",
    "            vecindarios.append(np.arange(i-k/2, i+k/2+1))  # Los vecinos son los k/2 anteriores y los k/siguientes\n",
    "        vecinos = np.array(vecindarios).astype(int)\n",
    "        # Poner todos los indices dentro del rango valido para los indices\n",
    "        vecinos[vecinos > len(X) -1] -= len(X)\n",
    "        return vecinos"
   ]
  },
  {
   "cell_type": "markdown",
   "id": "c2e5422f",
   "metadata": {},
   "source": [
    "## Definir Hiperparametros del algoritmo"
   ]
  },
  {
   "cell_type": "code",
   "execution_count": 2,
   "id": "010f5706",
   "metadata": {},
   "outputs": [],
   "source": [
    "# ------------------ Del Problema ------------------\n",
    "d = 2  # Numero de dimensiones\n",
    "funcion = f.f_schwefel # funcion objetivo\n",
    "rango = [[-500, 500]]  # Rango de las variables\n",
    "mark = [420.96, 420.96, 0]  # Minimo real (si se conoce)\n",
    "\n",
    "# ------------------ Del Algoritmo ------------------\n",
    "n = 10  # Numero de particulas\n",
    "k = 2  # Numero de vecinos (debe ser par y menor o igual a n)\n",
    "w = 0.9  # Factor de inercia\n",
    "c1 = 0.5  # Peso cognitivo\n",
    "c2 = 0.3  # Peso social\n",
    "max_gen = 100  # Maximo de generaciones\n",
    "tol = 1e-6  # Tolerancia para detener el algoritmo\n",
    "\n",
    "# ------------------ Del visualizacion ------------------\n",
    "animacion = True  # Realizar animacion o no\n",
    "levels = 20 # numero de curvas de nivel"
   ]
  },
  {
   "cell_type": "code",
   "execution_count": 3,
   "id": "5db48068",
   "metadata": {},
   "outputs": [],
   "source": [
    "# Si solo hay un rango se considera el mismo rango para todas las variables\n",
    "if len(rango) == 1:\n",
    "    rango *= d\n",
    "# Convertir rango a np.array\n",
    "rango = np.array(rango)\n",
    "\n",
    "# Definimos un mejor fitness grande para iniciar el algoritmo\n",
    "mejor_fitness= np.infty\n",
    "gen = 0\n",
    "\n",
    "# Crear un vetor de soluciones para cada dimension con su rango dado\n",
    "X = np.random.uniform(low=rango[:, 0], high=rango[:,1], size=((n, d)))"
   ]
  },
  {
   "cell_type": "code",
   "execution_count": 5,
   "id": "7633ffe3",
   "metadata": {},
   "outputs": [
    {
     "data": {
      "text/plain": [
       "array([[-347.73004409, -106.24526874],\n",
       "       [ 468.9966015 ,  320.87735722],\n",
       "       [  98.10828679, -389.71745342],\n",
       "       [ 434.93492748, -255.41030311],\n",
       "       [-195.97867286,   61.77356315],\n",
       "       [ 162.14823576, -274.80632331],\n",
       "       [ -48.70347323,  312.51498881],\n",
       "       [-485.89062956,  437.00221159],\n",
       "       [ -36.71940492, -158.70562802],\n",
       "       [-316.30497722,  457.69830338]])"
      ]
     },
     "execution_count": 5,
     "metadata": {},
     "output_type": "execute_result"
    }
   ],
   "source": [
    "X"
   ]
  },
  {
   "cell_type": "code",
   "execution_count": 10,
   "id": "4e996436",
   "metadata": {},
   "outputs": [
    {
     "data": {
      "text/plain": [
       "array([[-1,  0,  1],\n",
       "       [ 0,  1,  2],\n",
       "       [ 1,  2,  3],\n",
       "       [ 2,  3,  4],\n",
       "       [ 3,  4,  5],\n",
       "       [ 4,  5,  6],\n",
       "       [ 5,  6,  7],\n",
       "       [ 6,  7,  8],\n",
       "       [ 7,  8,  9],\n",
       "       [ 8,  9,  0]])"
      ]
     },
     "execution_count": 10,
     "metadata": {},
     "output_type": "execute_result"
    }
   ],
   "source": [
    "m"
   ]
  }
 ],
 "metadata": {
  "kernelspec": {
   "display_name": "Python 3 (ipykernel)",
   "language": "python",
   "name": "python3"
  },
  "language_info": {
   "codemirror_mode": {
    "name": "ipython",
    "version": 3
   },
   "file_extension": ".py",
   "mimetype": "text/x-python",
   "name": "python",
   "nbconvert_exporter": "python",
   "pygments_lexer": "ipython3",
   "version": "3.11.4"
  }
 },
 "nbformat": 4,
 "nbformat_minor": 5
}
