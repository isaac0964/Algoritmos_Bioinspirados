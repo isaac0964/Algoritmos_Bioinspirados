{
 "cells": [
  {
   "cell_type": "markdown",
   "id": "472be9b2",
   "metadata": {},
   "source": [
    "# Métodos de Selección"
   ]
  },
  {
   "cell_type": "markdown",
   "id": "0b6ddeae",
   "metadata": {},
   "source": [
    "En este script se implementan distintos métodos de selección para el algoritmo genético"
   ]
  },
  {
   "cell_type": "markdown",
   "id": "24bd7a39",
   "metadata": {},
   "source": [
    "## Importar librerías"
   ]
  },
  {
   "cell_type": "code",
   "execution_count": 15,
   "id": "f4ba93a5",
   "metadata": {},
   "outputs": [],
   "source": [
    "# Manejo y operaciones con arreglos \n",
    "import numpy as np\n",
    "\n",
    "# Numeros aleatorios\n",
    "import random"
   ]
  },
  {
   "cell_type": "markdown",
   "id": "f017eb9a",
   "metadata": {},
   "source": [
    "## Implementar métodos de selección"
   ]
  },
  {
   "cell_type": "markdown",
   "id": "21ffb54e",
   "metadata": {},
   "source": [
    "### Selección por Torneo"
   ]
  },
  {
   "cell_type": "code",
   "execution_count": 16,
   "id": "f173a454",
   "metadata": {},
   "outputs": [],
   "source": [
    "# Funcion para realizar la selección por torneo\n",
    "def torneo(pop, fitness_pop):\n",
    "    \"\"\"\n",
    "    Esta funcion realiza la seleccion por torneo\n",
    "    input: poblacion y el fitness de cada particula\n",
    "    output: lista con las partitcuas seleccionadas\n",
    "    \"\"\"\n",
    "    # lista para guardar a los ganadores\n",
    "    pop_sel = []\n",
    "    # Realizar un torneo por cada particula en la poblacion\n",
    "    for i in range(len(pop)):\n",
    "        # obtener los fitness de los elegidos para competir\n",
    "        competidores = random.sample(range(len(pop)), 3)  # Se eligen 3 competidores con random.sample\n",
    "        fitness_torneo = fitness_pop[competidores]  \n",
    "        # Obtener el indice de la particula con mejor fitness\n",
    "        idx_ganador = np.argmin(fitness_torneo)\n",
    "        # Seleccionar la particula con ese fitness\n",
    "        ganador = pop[competidores[idx_ganador]]\n",
    "        pop_sel.append(ganador)\n",
    "    return np.array(pop_sel)"
   ]
  },
  {
   "cell_type": "markdown",
   "id": "14798395",
   "metadata": {},
   "source": [
    "### Selección aleatoria"
   ]
  },
  {
   "cell_type": "code",
   "execution_count": 17,
   "id": "70c06c87",
   "metadata": {},
   "outputs": [],
   "source": [
    "def aleatoria(pop, pop_fitness=None):\n",
    "    \"\"\"\n",
    "    Esta función realiza la selección aleatoria\n",
    "    input: población\n",
    "    output: lista con las particulas seleccionadas\n",
    "    \"\"\"\n",
    "    return np.array(random.choices(pop, k=len(pop)))  # Elegir aleatoriamente 10 particulas de la poblacion"
   ]
  },
  {
   "cell_type": "markdown",
   "id": "ba505516",
   "metadata": {},
   "source": [
    "### Selección proporcional"
   ]
  },
  {
   "cell_type": "markdown",
   "id": "eb82e3ee",
   "metadata": {},
   "source": [
    "#### Ruleta"
   ]
  },
  {
   "cell_type": "markdown",
   "id": "96ae8148",
   "metadata": {},
   "source": [
    "Se implementa el algoritmo de ruleta usado por los métodos proporcional y por rango"
   ]
  },
  {
   "cell_type": "code",
   "execution_count": 18,
   "id": "c413a2ba",
   "metadata": {},
   "outputs": [],
   "source": [
    "def ruleta(p):\n",
    "    \"\"\"\n",
    "    Algoritmo de ruleta para selección\n",
    "    input: p distribución de probabilidad de las partículas\n",
    "    output: indice de las particulas seleccionadas\n",
    "    \"\"\"\n",
    "    idxs = []  # Aqui se guardan los indices seleccionados\n",
    "    for j in range(len(p)):\n",
    "        i = 0\n",
    "        # Inicaializar suma \n",
    "        suma = p[i]\n",
    "        # Obtner numero aleatorio entre 0 y 1\n",
    "        r = random.random()\n",
    "\n",
    "        while suma < r:\n",
    "            # Avanzar al siguiente cromosoma\n",
    "            i += 1\n",
    "            suma += p[i]\n",
    "        idxs.append(i)\n",
    "    return idxs"
   ]
  },
  {
   "cell_type": "code",
   "execution_count": 19,
   "id": "3bcfb395",
   "metadata": {},
   "outputs": [],
   "source": [
    "def proporcional(pop, fitness_pop):\n",
    "    \"\"\"\n",
    "    Esta funcion realiza la seleccion proporcional\n",
    "    input: poblacion y el fitness de cada particula\n",
    "    output: lista con las partitcuas seleccionadas\n",
    "    \"\"\"\n",
    "    \n",
    "    # Obtener funcion objetivo escalada\n",
    "    fs = 1 / (1 + fitness_pop - np.min(fitness_pop))\n",
    "    \n",
    "    # Obtener distribucion\n",
    "    phi = fs / np.sum(fs, axis=0)\n",
    "    \n",
    "    # Muestrear la distribucion usando el algoritmo de ruleta y pbtener las particulas seleccionadas\n",
    "    return pop[ruleta(phi)]"
   ]
  },
  {
   "cell_type": "markdown",
   "id": "f6815eda",
   "metadata": {},
   "source": [
    "### Selección por rango"
   ]
  },
  {
   "cell_type": "code",
   "execution_count": 77,
   "id": "b7f3dfea",
   "metadata": {},
   "outputs": [],
   "source": [
    "def rank(pop, fitness_pop):\n",
    "    \"\"\"\n",
    "    Esta funcion realiza la seleccion por rango\n",
    "    input: poblacion y el fitness de cada particula\n",
    "    output: lista con las partitcuas seleccionadas\n",
    "    \"\"\"\n",
    "    \n",
    "    # Ordenar de mayor a menor los array de acuerdo con el fitness\n",
    "    idxs_ord = np.argsort(fitness_pop)[::-1]  # Obtener los indices ordenados\n",
    "    pop = pop[idxs_ord]  # Ordenar poblacion\n",
    "    fitness_pop = fitness_pop[idxs_ord]  # Ordenar fitness\n",
    "    \n",
    "    # Asignar los rangos\n",
    "    rangos = np.array(range(1, len(fitness_pop) + 1))\n",
    "    \n",
    "    # Suma de los rangos\n",
    "    n = len(fitness_pop) * (len(fitness_pop) + 1) / 2\n",
    "    \n",
    "    # Obtener la distribucion de probabilidad\n",
    "    p = rangos / n\n",
    "    \n",
    "    # Muestrear la distribucion usando el algoritmo de ruleta y pbtener las particulas seleccionadas\n",
    "    return pop[ruleta(p)]\n",
    "    "
   ]
  }
 ],
 "metadata": {
  "kernelspec": {
   "display_name": "Python 3 (ipykernel)",
   "language": "python",
   "name": "python3"
  },
  "language_info": {
   "codemirror_mode": {
    "name": "ipython",
    "version": 3
   },
   "file_extension": ".py",
   "mimetype": "text/x-python",
   "name": "python",
   "nbconvert_exporter": "python",
   "pygments_lexer": "ipython3",
   "version": "3.11.4"
  }
 },
 "nbformat": 4,
 "nbformat_minor": 5
}
