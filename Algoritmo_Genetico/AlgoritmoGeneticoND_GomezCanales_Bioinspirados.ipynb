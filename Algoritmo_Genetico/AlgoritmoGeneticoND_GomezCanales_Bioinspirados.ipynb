{
 "cells": [
  {
   "cell_type": "markdown",
   "id": "0b73eed6",
   "metadata": {},
   "source": [
    "# Implementación del algóritmo genético en N-D"
   ]
  },
  {
   "cell_type": "markdown",
   "id": "b7bc0301",
   "metadata": {},
   "source": [
    "Para comenzar, se importa de la librería de numpy para poder trabajar con arreglos y random para los numeros aleatorios"
   ]
  },
  {
   "cell_type": "code",
   "execution_count": 3,
   "id": "8186fde8",
   "metadata": {},
   "outputs": [],
   "source": [
    "# Manejo de arreglos y operaciones matematicas\n",
    "import numpy as np\n",
    "\n",
    "# Importar funciones\n",
    "import import_ipynb\n",
    "from utils import FuncionesObjetivo as f\n",
    "\n",
    "# Numeros aleatorios\n",
    "import random"
   ]
  },
  {
   "cell_type": "markdown",
   "id": "2ff706bf",
   "metadata": {},
   "source": [
    "## Definir hiperparámetros para el algoritmo"
   ]
  },
  {
   "cell_type": "code",
   "execution_count": 2,
   "id": "ed5f64d2",
   "metadata": {},
   "outputs": [],
   "source": [
    "# +++++++++++++++++++++++++++++++++++++ HIPERPARAMETROS +++++++++++++++++++++++++++++++++++++\n",
    "r_cross = 0.9\n",
    "r_mut= 0.25\n",
    "resolucion = 16  # Resolución de bits con la que se trabajará\n",
    "n_dims = 1  # Número de dimensiones \n",
    "n_part = 100  # Número de particulas\n",
    "max_gen = 200  # Numero maximo de generaciones\n",
    "rango = [[-1, 1]]\n",
    "f_obj = f.f_spherical\n",
    "seleccion = []\n",
    "mutacion = []\n",
    "cruzamiento = []"
   ]
  },
  {
   "cell_type": "markdown",
   "id": "24f42c16",
   "metadata": {},
   "source": [
    "## Implementación de funciones"
   ]
  },
  {
   "cell_type": "markdown",
   "id": "fd3b9ec1",
   "metadata": {},
   "source": [
    "### Funciones generales"
   ]
  },
  {
   "cell_type": "markdown",
   "id": "93389073",
   "metadata": {},
   "source": [
    "Ahora se implementan funciones necesarias para el algoritmo, como la funcion objetivo, funcion de selección, función para mutación, etc."
   ]
  },
  {
   "cell_type": "code",
   "execution_count": 4,
   "id": "03d8a1fe",
   "metadata": {},
   "outputs": [],
   "source": [
    "\n",
    "# funcion para convertir binarios a entero\n",
    "def bin2int(pop):\n",
    "    \"\"\"\n",
    "    Esta funcion convierte los valores binarios de la población a enteros\n",
    "    input: valores binarios de la población\n",
    "    output: valores enteros de la población\n",
    "    \"\"\"\n",
    "    # Lista para guardar los valores enteros de la poblacion\n",
    "    pop_entero = [] \n",
    "    # Convertir a entero cada particula de la poblacion\n",
    "    for particle in pop:\n",
    "        # Lista temporal para guardar los valores de cada dimension convertida a entero\n",
    "        temp = []\n",
    "        # Se usa un for para convertir todas las dimensiones de binario a entero\n",
    "        for dim in range(n_dims):\n",
    "            # variable auxiliar para ir guardando el valor de la suma de cada bit para cada dimension\n",
    "            sum = 0\n",
    "            # En el siguiente for cada bit se multiplica por la potencia de dos correspondiente\n",
    "            for idx, n in enumerate(range(resolucion-1, -1, -1)):\n",
    "                sum += particle[idx + resolucion * dim] * 2 ** n\n",
    "            # Guardare el valor de la suma de la dimension en la lista temporal\n",
    "            temp.append(sum)\n",
    "        # Guardar el valor entero temporal en la lista de enteros\n",
    "        pop_entero.append(temp)\n",
    "    return np.array(pop_entero)\n",
    "\n",
    "# Funcion para mapear el numero entero al valor decodificado\n",
    "def mapeo(pop_entero, rango: list = [[-1, 1]]):\n",
    "    \"\"\"\n",
    "    Esta funcion realiza el mapeo de un numero entero a un valor decodificado en el rango dado\n",
    "    input: lista de los numeros enteros a mapear y lista de listas con el rango en el que se mapeará cada variable\n",
    "    si solo se inserta un rango, se asume el mismo rango para todas las variables, el default es de -1 a 1\n",
    "    output: lista con los valores decodificados\n",
    "    \"\"\"\n",
    "    \n",
    "    # Mapear cada variable a su rango correspondiente\n",
    "    # Si solo hay un rango dado se asume el mismo rango para todas las variables\n",
    "    if len(rango) == 1:\n",
    "        # Variable para ir guardando los mapeos\n",
    "        pop_decoded = []\n",
    "        for i, rango_dim in enumerate(rango * n_dims): \n",
    "            # primero se obtiene la ecuación para mapear los numeros esta es la ecuación de una recta ya que es un mapeo lineal\n",
    "            m = (rango_dim[1] - rango_dim[0]) / (val_max)\n",
    "            # mapear los valores\n",
    "            decoded = m * pop_entero[:, i] + rango_dim[0]\n",
    "            pop_decoded.append(decoded)\n",
    "    \n",
    "    # Si hay un rango para cada variable se toma ese rango\n",
    "    else:\n",
    "        # Variable para ir guardando los mapeos\n",
    "        pop_decoded = []\n",
    "        for i, rango_dim in enumerate(rango): \n",
    "            # primero se obtiene la ecuación para mapear los numeros esta es la ecuación de una recta ya que es un mapeo lineal\n",
    "            m = (rango_dim[1] - rango_dim[0]) / (val_max)\n",
    "            # mapear los valores\n",
    "            decoded = m * pop_entero[:, i] + rango_dim[0]\n",
    "            pop_decoded.append(decoded)\n",
    "\n",
    "    return np.array(pop_decoded).T\n",
    "\n",
    "# Funcion para evaluar el fitness de las particulas\n",
    "def eval_fitness(f_obj, decoded):\n",
    "    \"\"\"\n",
    "    Esta funcion evalua el fitness de los valores dados con la funcion objetivo definida\n",
    "    input: string con el nombre de la funcion y lista con los valores decodificados\n",
    "    output: lista con la evaluación del fitness en la funcion objetivo\n",
    "    \"\"\"\n",
    "    return f_obj(decoded)\n",
    "\n",
    "# Funcion para realizar la selección por torneo\n",
    "def torneo(pop, fitness_pop):\n",
    "    \"\"\"\n",
    "    Esta funcion realiza la seleccion por torneo\n",
    "    input: poblacion y el fitness de cada particula\n",
    "    output: lista con las partitcuas seleccionadas\n",
    "    \"\"\"\n",
    "    # lista para guardar a los ganadores\n",
    "    pop_sel = []\n",
    "    # Realizar un torneo por cada particula en la poblacion\n",
    "    for i in range(n_part):\n",
    "        # obtener los fitness de los elegidos para competir\n",
    "        competidores = random.sample(range(n_part), 3)  # Se eligen 3 competidores con random.sample\n",
    "        fitness_torneo = fitness_pop[competidores]  \n",
    "        # Obtener el indice de la particula con mejor fitness\n",
    "        idx_ganador = np.argmin(fitness_torneo)\n",
    "        # Seleccionar la particula con ese fitness\n",
    "        ganador = pop[competidores[idx_ganador]]\n",
    "        pop_sel.append(ganador)\n",
    "    return np.array(pop_sel)\n",
    "\n",
    "# Funcion para realizar el cruzamiento y la mutacion\n",
    "def cross_mut(pop_nueva):\n",
    "    \"\"\"\n",
    "    Esta funciónn realiza el cruzamiento de la población y la mutacion\n",
    "    input: población en la que se realizara el cruzamiento y mutacion\n",
    "    output: población con el cruzamiento y la mutacion\n",
    "    \"\"\"\n",
    "    # Lista para guardar las particlulas con el cruzamiento\n",
    "    pop_cross = []\n",
    "    # Tomar particulas de dos en dos para el cruzamiento\n",
    "    for i in range(0, n_part, 2):\n",
    "        # Hacer el cruzamiento solo si la probabilidad\n",
    "        if random.random() <= r_cross:\n",
    "            # Obtener la posición del cruzamiento\n",
    "            pos = random.randint(1, (n_dims * resolucion)-2)\n",
    "            # particula 1 con cruzamiento\n",
    "            part1 = np.concatenate((pop_nueva[i, :pos], pop_nueva[i+1, pos:]))\n",
    "            # particula 2 con cruzamiento\n",
    "            part2 = np.concatenate((pop_nueva[i+1, :pos], pop_nueva[i, pos:]))\n",
    "        else:  # si no hay cruzamiento las particulas quedan igual\n",
    "            part1 = pop_nueva[i]\n",
    "            part2 = pop_nueva[i+1]\n",
    "        \n",
    "        # Ahora se realiza la mutación de las dos particulas obtenidas despues del cruzamiento\n",
    "        for j in [part1, part2]:\n",
    "            # Hacer la mutación de cada bit\n",
    "            for k, bit in enumerate(j):\n",
    "                # Si está dentro de la probabilidad se muta el bit\n",
    "                if random.random() <= r_mut:\n",
    "                    # Invertir el valor del bit para mutar\n",
    "                    j[k] = 1 - bit\n",
    "        \n",
    "        pop_cross.append(part1)\n",
    "        pop_cross.append(part2)\n",
    "        \n",
    "    return np.array(pop_cross)\n"
   ]
  },
  {
   "cell_type": "markdown",
   "id": "0626f701",
   "metadata": {},
   "source": [
    "## Implementación del algoritmo"
   ]
  },
  {
   "cell_type": "markdown",
   "id": "8c900bc2",
   "metadata": {},
   "source": [
    "Una vez que ya se tienen todas las funciones necesarias ahora se llaman estas funciones dentro de un bucle para entrenar varias generaciones"
   ]
  },
  {
   "cell_type": "code",
   "execution_count": 7,
   "id": "c0151c0e",
   "metadata": {},
   "outputs": [
    {
     "name": "stdout",
     "output_type": "stream",
     "text": [
      "El óptimo está en [-0.025] con un fitness de 0.0006\n",
      "Obtenido en la generación 1\n"
     ]
    },
    {
     "data": {
      "image/png": "[encoded data removed]",
      "text/plain": [
       "<Figure size 640x480 with 1 Axes>"
      ]
     },
     "metadata": {},
     "output_type": "display_data"
    }
   ],
   "source": [
    "# ++++++++++++++++++++++++++++++++++++++++++++++++++++++++++++++++++++++++++++++++++++++++++++\n",
    "# La población se define aleatoriamente de acuerdo con el número de dimensiones y la resolución\n",
    "pop = np.random.randint(0, high=2, size=(n_part, n_dims * resolucion))\n",
    "# valor maximo que se puede obtener con la resolución dada de la población\n",
    "val_max = 2 ** resolucion - 1\n",
    "gen = 0\n",
    "# tolerancia para detener el algoritmo\n",
    "tol = 1e-3\n",
    "# Definimos un mejor fitness grande para iniciar el algoritmo\n",
    "mejor_fitness= np.infty\n",
    "\n",
    "# Seguir con el algoritmo mientra sean menos de 100 generaciones o el fitness sea menor a 0.001\n",
    "while((mejor_fitness > tol) and (gen < max_gen)):\n",
    "    # Primero se convierte la población en binario a entero\n",
    "    pop_int = bin2int(pop)\n",
    "    # Luego se mapean esos enteros al rango dado\n",
    "    pop_decoded = mapeo(pop_int, rango=rango)\n",
    "    # Se evalua el fitness de la población\n",
    "    pop_fitness = eval_fitness(f_obj, pop_decoded)\n",
    "    # Obtener el mejor fitness de la poblacion\n",
    "    mejor_fitness_pop = np.min(pop_fitness)\n",
    "    # Si el mejor fitness de la poblacion es menor al mejor fitness global se actualiza este\n",
    "    if mejor_fitness_pop < mejor_fitness:\n",
    "        mejor_fitness = mejor_fitness_pop\n",
    "        # Obtener la particula con el mejor fitness\n",
    "        part_opt = pop[np.argmin(pop_fitness)]\n",
    "        decoded_opt = mapeo(bin2int([part_opt]), rango=rango)[0]\n",
    "        fitness_opt = eval_fitness(f_obj, mapeo(bin2int([part_opt]), rango=rango))[0]\n",
    "    # Se realiza la seleccion por torneo\n",
    "    pop_nueva = torneo(pop, pop_fitness)\n",
    "    # Se realiza el cruzamiento y mutacion, esta será la nueva población\n",
    "    pop = cross_mut(pop_nueva)\n",
    "    gen += 1\n",
    "    \n",
    "# Una vez concluido el algoritmo se muestran los resultados\n",
    "print(f\"El óptimo está en {np.around(decoded_opt, 3)} con un fitness de {fitness_opt:0.4f}\")\n",
    "print(f\"Obtenido en la generación {gen}\")\n",
    "\n",
    "# Graficar la funcion con su minimo\n",
    "f.graficar(f_obj, rango=rango, n_dims=n_dims, min=list(decoded_opt)+[fitness_opt])"
   ]
  },
  {
   "cell_type": "markdown",
   "id": "309d876c",
   "metadata": {},
   "source": [
    "En la parte de arriba poder definir todo y eleigr: funcion, metodo de seleccion, mutaacion y cruzamiento, ademas de rango\n",
    "\n",
    "Hecho:\n",
    "- Poder graficar en 2 y 3d\n",
    "- Graficar minimo\n",
    "\n",
    "Para cuando vuelva:\n",
    "- Provar todas las graficas en 2 y 3d\n",
    "- Poder elegir metodo de seleccion\n",
    "- Mutacion\n",
    "- Cruzamiento"
   ]
  }
 ],
 "metadata": {
  "kernelspec": {
   "display_name": "Python 3 (ipykernel)",
   "language": "python",
   "name": "python3"
  },
  "language_info": {
   "codemirror_mode": {
    "name": "ipython",
    "version": 3
   },
   "file_extension": ".py",
   "mimetype": "text/x-python",
   "name": "python",
   "nbconvert_exporter": "python",
   "pygments_lexer": "ipython3",
   "version": "3.11.4"
  }
 },
 "nbformat": 4,
 "nbformat_minor": 5
}
