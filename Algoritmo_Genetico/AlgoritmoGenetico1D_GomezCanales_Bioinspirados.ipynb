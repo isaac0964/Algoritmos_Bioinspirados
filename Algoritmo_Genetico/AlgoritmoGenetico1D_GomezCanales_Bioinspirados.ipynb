{
 "cells": [
  {
   "cell_type": "markdown",
   "id": "0b73eed6",
   "metadata": {},
   "source": [
    "# Implementación del algóritmo genético en 1D"
   ]
  },
  {
   "cell_type": "markdown",
   "id": "b7bc0301",
   "metadata": {},
   "source": [
    "Para comenzar, se importa de la librería de numpy para poder trabajar con arreglos"
   ]
  },
  {
   "cell_type": "code",
   "execution_count": 5,
   "id": "8186fde8",
   "metadata": {},
   "outputs": [],
   "source": [
    "import numpy as np"
   ]
  },
  {
   "cell_type": "markdown",
   "id": "dfc5c2a9",
   "metadata": {},
   "source": [
    "## Definir población, probabilidades, etc."
   ]
  },
  {
   "cell_type": "code",
   "execution_count": 6,
   "id": "5c7904f0",
   "metadata": {},
   "outputs": [],
   "source": [
    "r_cross = 0.9\n",
    "r_mut= 0.25\n",
    "\n",
    "pop=np.array([[0, 1, 0, 0], [0, 0, 0, 0], [0, 0, 1, 1], [0, 0, 0, 1], [0, 1, 0, 1], [0, 0, 1, 0]])\n",
    "\n",
    "l_sel= [[2, 3, 5], [2, 4, 5], [0, 4, 1], [4, 0, 5], [3, 1, 5], [0, 5, 4], [4, 1, 0], [3, 4, 0],\n",
    "[1, 4, 2], [5, 4, 3], [0, 1, 5], [0, 2, 1], [2, 1, 3], [2, 5, 3], [3, 5, 1], [3, 0, 1], [4, 3,\n",
    "1], [1, 5, 4], [1, 5, 2], [4, 2, 3], [1, 5, 4], [0, 1, 2], [5, 2, 1], [5, 0, 4]]\n",
    "\n",
    "l_cross= [1, 2, 2, 1, 2, 2, 2, 2, 2, 2]\n",
    "\n",
    "l_rand= [0.70, 0.13, 0.38, 0.29, 0.85, 0.68, 0.53, 0.49, 0.03, 0.06, 0.78, 0.17,\n",
    "0.08, 0.01, 0.46, 0.14, 0.18, 0.26, 0.56, 0.79, 0.60, 0.43, 0.00, 0.21, 0.21, 0.33,\n",
    "0.44, 0.91, 0.99, 0.00, 0.97, 0.98, 0.83, 0.11, 0.62, 0.66, 0.33, 0.27, 0.54, 0.20,\n",
    "0.06, 0.98, 0.27, 0.57, 0.46, 0.97, 0.18, 0.31, 0.19, 0.70, 0.84, 0.99, 0.92, 0.09,\n",
    "0.36, 0.25, 0.14, 0.88, 0.26, 0.76, 0.90, 0.85, 0.73, 0.28, 0.82, 0.43, 0.17, 0.23,\n",
    "0.73, 0.95, 0.00, 0.30, 0.04, 0.74, 0.66, 0.34, 0.18, 0.37, 0.52, 0.94, 0.84, 0.75,\n",
    "0.26, 0.96, 0.01, 0.91, 0.99, 0.21, 0.69, 0.72, 0.48, 0.70, 0.14, 0.53, 0.96, 0.14,\n",
    "0.33, 0.41, 0.47, 0.67, 0.75, 0.28, 0.90, 0.00, 0.65, 0.97, 0.59, 0.06]\n",
    "\n",
    "# valor maximo que se puede obtener con la resolución dada de la población\n",
    "val_max = 2 ** len(pop[0]) - 1\n",
    "\n",
    "# contador para la seleccion\n",
    "cont_sel = 0\n",
    "\n",
    "# contador para los random\n",
    "cont_rand = 0\n",
    "\n",
    "# contador para el cruzamiento\n",
    "cont_cross = 0"
   ]
  },
  {
   "cell_type": "markdown",
   "id": "24f42c16",
   "metadata": {},
   "source": [
    "## Implementación de funciones"
   ]
  },
  {
   "cell_type": "markdown",
   "id": "93389073",
   "metadata": {},
   "source": [
    "Ahora se implementan funciones necesarias para el algoritmo, como la funcion objetivo, funcion de selección, función para mutación, etc."
   ]
  },
  {
   "cell_type": "code",
   "execution_count": 7,
   "id": "03d8a1fe",
   "metadata": {},
   "outputs": [],
   "source": [
    "# funcion para definir la función objetivo que es |2x-1.2|\n",
    "def f_obj(x):\n",
    "    \"\"\"\n",
    "    Función objetivo: |2x-1.2|\n",
    "    input: arreglo de numpy con los valores enteros de la población\n",
    "    output: fitness de la población\n",
    "    \"\"\"\n",
    "    fitness = np.abs(2 * x - 1.2)\n",
    "    return fitness\n",
    "\n",
    "# funcion para convertir binarios a entero\n",
    "def bin2int(pop):\n",
    "    \"\"\"\n",
    "    Esta funcion convierte los valores binarios de la población a enteros\n",
    "    input: valores binarios de la población\n",
    "    output: valores enteros de la población\n",
    "    \"\"\"\n",
    "    # Lista para guardar los valores enteros de la poblacion\n",
    "    pop_entero = [] \n",
    "    # Convertir a entero cada particula de la poblacion\n",
    "    for particle in pop:\n",
    "        # variable auxiliar para ir guardando el valor de la suma de cada bit\n",
    "        sum = 0\n",
    "        # En el siguiente for cada bit se multiplica por la potencia de dos correspondiente\n",
    "        for idx, n in enumerate(range(len(particle)-1, -1, -1)):\n",
    "            sum += particle[idx] * 2 ** n\n",
    "        # Guardar el valor entero en la lista de enteros\n",
    "        pop_entero.append(sum)\n",
    "    return np.array(pop_entero)\n",
    "\n",
    "# Funcion para mapear el numero entero al valor decodificado\n",
    "def mapeo(pop_entero, rango: list = [-1, 1]):\n",
    "    \"\"\"\n",
    "    Esta funcion realiza el mapeo de un numero entero a un valor decodificado en el rango dado\n",
    "    input: lista de los numeros enteros a mapear y lista con el rango en el que se mapearán, el default es de -1 a 1\n",
    "    output: lista con los valores decodificados\n",
    "    \"\"\"\n",
    "    \n",
    "    # primero se obtiene la ecuación para mapear los numeros esta es la ecuación de una recta ya que es un mapeo lineal\n",
    "    m = (rango[1] - rango [0]) / (val_max)\n",
    "    # mapear los valores\n",
    "    decoded = m * pop_entero + rango[0]\n",
    "    return np.array(decoded) \n",
    "\n",
    "# Funcion para evaluar el fitness de las particulas\n",
    "def eval_fitness(decoded):\n",
    "    \"\"\"\n",
    "    Esta funcion evalua el fitness de los valores dados con la funcion objetivo definida\n",
    "    input: lista con los valores decodificados\n",
    "    output: lista con la evaluación del fitness en la funcion objetivo\n",
    "    \"\"\"\n",
    "    return f_obj(decoded)\n",
    "\n",
    "# Funcion para realizar la selección por torneo\n",
    "def seleccion(pop, fitness_pop):\n",
    "    \"\"\"\n",
    "    Esta funcion realiza la seleccion por torneo\n",
    "    input: poblacion y el fitness de cada particula\n",
    "    output: lista con las partitcuas seleccionadas\n",
    "    \"\"\"\n",
    "    global cont_sel\n",
    "    # lista para guardar a los ganadores\n",
    "    pop_sel = []\n",
    "    # Realizar un torneo por cada particula en la poblacion\n",
    "    for i in range(len(pop)):\n",
    "        # obtener los fitness de los elegidos para competir\n",
    "        fitness_torneo = fitness_pop[l_sel[cont_sel]]\n",
    "        # Obtener el indice de la particula con mejor fitness\n",
    "        idx_ganador = np.argmin(fitness_torneo)\n",
    "        # Seleccionar la particula con ese fitness\n",
    "        ganador = pop[l_sel[cont_sel][idx_ganador]]\n",
    "        pop_sel.append(ganador)\n",
    "        # aumentar el contador para obtener el siguiente elemento de la lista de seleccion\n",
    "        cont_sel +=1\n",
    "    return np.array(pop_sel)\n",
    "\n",
    "# Funcion para realizar el cruzamiento y la mutacion\n",
    "def cross_mut(pop_nueva):\n",
    "    \"\"\"\n",
    "    Esta funciónn realiza el cruzamiento de la población y la mutacion\n",
    "    input: población en la que se realizara el cruzamiento y mutacion\n",
    "    output: población con el cruzamiento y la mutacion\n",
    "    \"\"\"\n",
    "    global cont_cross\n",
    "    global cont_rand\n",
    "    # Lista para guardar las particlulas con el cruzamiento\n",
    "    pop_cross = []\n",
    "    # Tomar particulas de dos en dos para el cruzamiento\n",
    "    for i in range(0, len(pop_nueva), 2):\n",
    "        # Hacer el cruzamiento solo si la probabilidad\n",
    "        if l_rand[cont_rand] <= r_cross:\n",
    "            # Obtener la posición del cruzamiento\n",
    "            pos = l_cross[cont_cross]\n",
    "            # particula 1 con cruzamiento\n",
    "            part1 = np.concatenate((pop_nueva[i, :pos], pop_nueva[i+1, pos:]))\n",
    "            # particula 2 con cruzamiento\n",
    "            part2 = np.concatenate((pop_nueva[i+1, :pos], pop_nueva[i, pos:]))\n",
    "            # Aumentar el contador para obtener el siguiente elemento de la selección\n",
    "            cont_cross +=1\n",
    "        else:  # si no hay cruzamiento las particulas quedan igual\n",
    "            part1 = pop_nueva[i]\n",
    "            part2 = pop_nueva[i+1]\n",
    "        \n",
    "        # Aumentar el contador de los randoms para la mutacion\n",
    "        cont_rand += 1\n",
    "        \n",
    "        # Ahora se realiza la mutación de las dos particulas obtenidas despues del cruzamiento\n",
    "        for j in [part1, part2]:\n",
    "            # Hacer la mutación de cada bit\n",
    "            for k, bit in enumerate(j):\n",
    "                # Si está dentro de la probabilidad se muta el bit\n",
    "                if l_rand[cont_rand] <= r_mut:\n",
    "                    # Invertir el valor del bit para mutar\n",
    "                    j[k] = 1 - bit\n",
    "                # aumentar el contador de randoms\n",
    "                cont_rand += 1\n",
    "        \n",
    "        pop_cross.append(part1)\n",
    "        pop_cross.append(part2)\n",
    "        \n",
    "    return np.array(pop_cross)\n"
   ]
  },
  {
   "cell_type": "markdown",
   "id": "0626f701",
   "metadata": {},
   "source": [
    "## Implementación del algoritmo"
   ]
  },
  {
   "cell_type": "markdown",
   "id": "8c900bc2",
   "metadata": {},
   "source": [
    "Una vez que ya se tienen todas las funciones necesarias ahora se llaman estas funciones dentro de un bucle para entrenar varias generaciones"
   ]
  },
  {
   "cell_type": "code",
   "execution_count": 8,
   "id": "c0151c0e",
   "metadata": {},
   "outputs": [
    {
     "name": "stdout",
     "output_type": "stream",
     "text": [
      "La mejor particula es [1 1 0 0], con un valor decodificado de 0.6000000000000001 y un fitness de 2.220446049250313e-16\n",
      "Obtenido en la generación 2\n"
     ]
    }
   ],
   "source": [
    "gen = 0\n",
    "# tolerancia para detener el algoritmo\n",
    "tol = 1e-3\n",
    "# Definimos un mejor fitness grande para iniciar el algoritmo\n",
    "mejor_fitness= np.infty\n",
    "\n",
    "# Seguir con el algoritmo mientra sean menos de 100 generaciones o el fitness sea mayor a 0.001\n",
    "while((mejor_fitness > tol) and (gen < 100)):\n",
    "    # Primero se convierte la población en binario a entero\n",
    "    pop_int = bin2int(pop)\n",
    "    # Luego se mapean esos enteros al rango dado\n",
    "    pop_decoded = mapeo(pop_int)\n",
    "    # Se evalua el fitness de la población\n",
    "    pop_fitness = eval_fitness(pop_decoded)\n",
    "    # Obtener el mejor fitness de la poblacion\n",
    "    mejor_fitness_pop = min(pop_fitness)\n",
    "    # Si el mejor fitness de la poblacion es menor al mejor fitness global se actualiza este\n",
    "    if mejor_fitness_pop < mejor_fitness:\n",
    "        mejor_fitness = mejor_fitness_pop\n",
    "        # Obtener la particula con el mejor fitness\n",
    "        part_opt = pop[np.argmin(pop_fitness)]\n",
    "        decoded_opt = mapeo(bin2int([part_opt]))[0]\n",
    "        fitness_opt = eval_fitness(mapeo(bin2int([part_opt])))[0]\n",
    "    # Se realiza la seleccion por torneo\n",
    "    pop_nueva = seleccion(pop, pop_fitness)\n",
    "    # Se realiza el cruzamiento y mutacion, esta será la nueva población\n",
    "    pop = cross_mut(pop_nueva)\n",
    "    gen += 1\n",
    "    \n",
    "# Una vez concluido el algoritmo se muestran los resultados\n",
    "print(f\"La mejor particula es {part_opt}, con un valor decodificado de {decoded_opt} y un fitness de {fitness_opt}\")\n",
    "print(f\"Obtenido en la generación {gen-1}\")"
   ]
  }
 ],
 "metadata": {
  "kernelspec": {
   "display_name": "Python 3 (ipykernel)",
   "language": "python",
   "name": "python3"
  },
  "language_info": {
   "codemirror_mode": {
    "name": "ipython",
    "version": 3
   },
   "file_extension": ".py",
   "mimetype": "text/x-python",
   "name": "python",
   "nbconvert_exporter": "python",
   "pygments_lexer": "ipython3",
   "version": "3.11.4"
  }
 },
 "nbformat": 4,
 "nbformat_minor": 5
}
